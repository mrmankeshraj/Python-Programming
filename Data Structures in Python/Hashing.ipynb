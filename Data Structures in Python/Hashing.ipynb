{
 "cells": [
  {
   "cell_type": "markdown",
   "id": "3b4ab2f0",
   "metadata": {},
   "source": [
    "### Linear Probing "
   ]
  },
  {
   "cell_type": "code",
   "execution_count": 145,
   "id": "8a4e2520",
   "metadata": {},
   "outputs": [],
   "source": [
    "class Dictionary:\n",
    "    \n",
    "    def __init__(self, size):\n",
    "        self.size = size\n",
    "        self.slots = [None] * self.size\n",
    "        self.data = [None] * self.size\n",
    "        \n",
    "    def put(self, key, value):\n",
    "        hash_value = self.hash_function(key)\n",
    "        \n",
    "        if self.slots[hash_value] == None:\n",
    "            self.slots[hash_value] = key\n",
    "            self.data[hash_value] = value\n",
    "        else:\n",
    "            if self.slots[hash_value] == key:\n",
    "                self.data[hash_value] = value\n",
    "            else:\n",
    "                new_hash_value = self.rehash(hash_value)\n",
    "                while self.slots[new_hash_value] != None and self.slots[new_hash_value] != key:\n",
    "                    new_hash_value = self.rehash(new_hash_value)\n",
    "                if self.slots[new_hash_value] == None:\n",
    "                    self.slots[new_hash_value] = key\n",
    "                    self.data[new_hash_value] = value\n",
    "                else:\n",
    "                    self.data[new_hash_value] = value\n",
    "    \n",
    "    def get(self, key):\n",
    "        start_position = self.hash_function(key)\n",
    "        current_position = start_position\n",
    "        while self.slots[current_position] != None: #and self.slots[start_position] == key and \n",
    "            if self.slots[current_position] == key:\n",
    "                return self.data[current_position]\n",
    "            \n",
    "            current_position = self.rehash(current_position)\n",
    "            \n",
    "            if current_position == start_position:\n",
    "                return \"Not Found\"\n",
    "            \n",
    "        return \"Not Found\"\n",
    "    \n",
    "    def __str__(self):\n",
    "        for i in range(len(self.slots)):\n",
    "            if self.slots[i] != None:\n",
    "                print(self.slots[i], \":\", self.data[i])\n",
    "                \n",
    "        return \"\"\n",
    "    \n",
    "    def __getitem__(self, key):\n",
    "        return self.get(key)\n",
    "                    \n",
    "    def __setitem__(self, key, value):\n",
    "        self.put(key, value)\n",
    "    \n",
    "    def rehash(self, old_hash):\n",
    "        return (old_hash + 1) % self.size\n",
    "    \n",
    "    def hash_function(self, key):\n",
    "        return abs(hash(key)) % self.size\n",
    "        "
   ]
  },
  {
   "cell_type": "code",
   "execution_count": 146,
   "id": "8da7fd08",
   "metadata": {},
   "outputs": [],
   "source": [
    "D1 = Dictionary(3)"
   ]
  },
  {
   "cell_type": "code",
   "execution_count": 147,
   "id": "2ff30510",
   "metadata": {},
   "outputs": [
    {
     "name": "stdout",
     "output_type": "stream",
     "text": [
      "[None, None, None]\n",
      "[None, None, None]\n"
     ]
    }
   ],
   "source": [
    "print(D1.slots)\n",
    "print(D1.data)"
   ]
  },
  {
   "cell_type": "code",
   "execution_count": 148,
   "id": "75de2460",
   "metadata": {},
   "outputs": [],
   "source": [
    "D1.put(\"python\", 100)\n",
    "D1.put(\"java\", 1000)\n",
    "#D1.put(\"php\", 10)"
   ]
  },
  {
   "cell_type": "code",
   "execution_count": 149,
   "id": "6771fadf",
   "metadata": {},
   "outputs": [
    {
     "name": "stdout",
     "output_type": "stream",
     "text": [
      "['java', None, 'python']\n",
      "[1000, None, 100]\n"
     ]
    }
   ],
   "source": [
    "print(D1.slots)\n",
    "print(D1.data)"
   ]
  },
  {
   "cell_type": "code",
   "execution_count": 150,
   "id": "8d555efd",
   "metadata": {},
   "outputs": [],
   "source": [
    "#D1.put(\"c\", 50000)"
   ]
  },
  {
   "cell_type": "code",
   "execution_count": 151,
   "id": "698ad171",
   "metadata": {},
   "outputs": [],
   "source": [
    "D1[\"python\"] = 200\n",
    "D1[\"java\"] = 2000\n",
    "D1[\"php\"] = 20000"
   ]
  },
  {
   "cell_type": "code",
   "execution_count": 152,
   "id": "2447214c",
   "metadata": {},
   "outputs": [
    {
     "data": {
      "text/plain": [
       "'Not Found'"
      ]
     },
     "execution_count": 152,
     "metadata": {},
     "output_type": "execute_result"
    }
   ],
   "source": [
    "D1.get(\"c\")"
   ]
  },
  {
   "cell_type": "code",
   "execution_count": 153,
   "id": "40c26cb2",
   "metadata": {},
   "outputs": [
    {
     "data": {
      "text/plain": [
       "200"
      ]
     },
     "execution_count": 153,
     "metadata": {},
     "output_type": "execute_result"
    }
   ],
   "source": [
    "D1[\"python\"]"
   ]
  },
  {
   "cell_type": "code",
   "execution_count": 154,
   "id": "235c7fe4",
   "metadata": {},
   "outputs": [
    {
     "name": "stdout",
     "output_type": "stream",
     "text": [
      "java : 2000\n",
      "php : 20000\n",
      "python : 200\n",
      "\n"
     ]
    }
   ],
   "source": [
    "print(D1)"
   ]
  },
  {
   "cell_type": "markdown",
   "id": "e2a53d71",
   "metadata": {},
   "source": [
    "### Closed Address Chaining"
   ]
  },
  {
   "cell_type": "code",
   "execution_count": 328,
   "id": "fa86aa31",
   "metadata": {},
   "outputs": [],
   "source": [
    "class Node:\n",
    "    \n",
    "    def __init__(self, key, value):\n",
    "        self.key = key\n",
    "        self.value = value\n",
    "        self.next = None"
   ]
  },
  {
   "cell_type": "code",
   "execution_count": 329,
   "id": "5b2f07bb",
   "metadata": {},
   "outputs": [],
   "source": [
    "class LinkedList:\n",
    "    \n",
    "    def __init__(self):\n",
    "        # Empty LinkedList\n",
    "        self.head = None\n",
    "        \n",
    "    def __str__(self):\n",
    "        curr = self.head\n",
    "        result = \"\"\n",
    "        \n",
    "        if curr != None:\n",
    "            while curr != None:\n",
    "                result = result + str(curr.data) + \"->\"\n",
    "                curr = curr.next\n",
    "            return result[:-2]\n",
    "        else:\n",
    "            return \"Empty Linked List\"\n",
    "    \n",
    "    def delete_head(self):\n",
    "        if self.head is None:\n",
    "            return \"Empty Linked List\"\n",
    "        \n",
    "        self.head = self.head.next\n",
    "        \n",
    "    def add(self, key, value):\n",
    "        new_node = Node(key, value)\n",
    "        \n",
    "        if self.head == None:\n",
    "            self.head = new_node\n",
    "        else:\n",
    "            temp = self.head\n",
    "            while temp.next != None:\n",
    "                temp = temp.next\n",
    "                \n",
    "            temp.next = new_node    \n",
    "    \n",
    "    def append(self, value):\n",
    "        new_node = Node(value)\n",
    "        \n",
    "        if self.head is None:\n",
    "            self.head = new_node\n",
    "            self.n = self.n + 1\n",
    "            return\n",
    "            \n",
    "        curr = self.head\n",
    "        \n",
    "        # Traverse to the last node\n",
    "        while curr.next != None:\n",
    "            curr = curr.next\n",
    "        # You are the last node\n",
    "        curr.next = new_node\n",
    "        self.n += 1\n",
    "        \n",
    "    def clear(self):\n",
    "        self.head = None\n",
    "        self.n = 0\n",
    "        \n",
    "    def remove(self, key):\n",
    "        if self.head.key == key:\n",
    "            self.delete_head()\n",
    "            return \n",
    "        \n",
    "        if self.head is None:\n",
    "            return \"Empty\"\n",
    "        else:\n",
    "            temp = self.head\n",
    "            while temp.next != None:\n",
    "                if temp.next.key == key:\n",
    "                    break\n",
    "                temp = temp.next\n",
    "            \n",
    "        if temp.next is None:\n",
    "            return \"Not Found\"\n",
    "        else:\n",
    "            temp.next = temp.next.next  \n",
    "            \n",
    "    def size(self):\n",
    "        curr = self.head\n",
    "        counter = 0\n",
    "        \n",
    "        while curr != None:\n",
    "            counter += 1\n",
    "            curr = curr.next\n",
    "        return counter\n",
    "        \n",
    "            \n",
    "    def traverse(self):\n",
    "        curr = self.head\n",
    "        while curr != None:\n",
    "            print(curr.key,\"-->\",curr.value,\" \", end=\" \")\n",
    "            curr = curr.next    \n",
    "    \n",
    "    def search(self, key):\n",
    "        curr = self.head\n",
    "        pos = 0\n",
    "        \n",
    "        while curr != None:\n",
    "            if curr.key == key:\n",
    "                return pos\n",
    "        \n",
    "            curr = curr.next   \n",
    "            pos += 1 \n",
    "            \n",
    "        return -1\n",
    "        \n",
    "    \n",
    "    def get_node_at_index(self, index):\n",
    "        temp = self.head\n",
    "        pos = 0\n",
    "        \n",
    "        while temp != None:\n",
    "            if pos == index:\n",
    "                return temp\n",
    "            temp = temp.next\n",
    "            pos = pos + 1\n",
    "            \n",
    "        return \"Index Error\" \n",
    "        "
   ]
  },
  {
   "cell_type": "code",
   "execution_count": 385,
   "id": "e44b0d66",
   "metadata": {},
   "outputs": [],
   "source": [
    "class Dictionary:\n",
    "    \n",
    "    def __init__(self, capacity):\n",
    "        self.capacity = capacity\n",
    "        self.size = 0\n",
    "        # Creating a Array of LinkedList\n",
    "        self.buckets = self.create_array(self.capacity)\n",
    "        \n",
    "    def create_array(self, capacity):\n",
    "        L = []\n",
    "        \n",
    "        for i in range(capacity):\n",
    "            L.append(LinkedList())\n",
    "        return L\n",
    "    \n",
    "    def __setitem__(self, key, value):\n",
    "        self.put(key, value)\n",
    "        \n",
    "    def get(self, key):\n",
    "        bucket_index = self.hash_function(key)\n",
    "        \n",
    "        res = self.buckets[bucket_index].search(key)\n",
    "        \n",
    "        if res == -1:\n",
    "            return \"Not Present\"\n",
    "        else:\n",
    "            node = self.buckets[bucket_index].get_node_at_index(res)\n",
    "            return node.value\n",
    "        \n",
    "    def __getitem__(self, key):\n",
    "        return self.get(key)\n",
    "    \n",
    "    def __delitem__(self, key):\n",
    "        bucket_index = self.hash_function(key)\n",
    "        self.buckets[bucket_index].remove(key)\n",
    "    \n",
    "    def __str__(self):\n",
    "        for i in self.buckets:\n",
    "            i.traverse()\n",
    "        return \"\"\n",
    "    \n",
    "    def put(self, key, value):\n",
    "        bucket_index = self.hash_function(key)\n",
    "        node_index = self.get_node_index(bucket_index, key)\n",
    "        \n",
    "        if node_index == -1:\n",
    "            # Insert\n",
    "            self.buckets[bucket_index].add(key, value)\n",
    "            self.size += 1 \n",
    "            \n",
    "            load_factor = self.size/self.capacity\n",
    "            print(load_factor)\n",
    "            \n",
    "            if (load_factor >= 2):\n",
    "                self.rehash()\n",
    "        else:\n",
    "            # Update\n",
    "            node = self.buckets[bucket_index].get_node_at_index(node_index)\n",
    "            node.value = value  \n",
    "            \n",
    "    def rehash(self):\n",
    "        self.capacity = self.capacity * 2\n",
    "        old_buckets = self.buckets\n",
    "        self.size = 0\n",
    "        self.buckets = self.create_array(self.capacity)\n",
    "        \n",
    "        for i in old_buckets:\n",
    "            for j in range(i.size()):\n",
    "                node = i.get_node_at_index(j)\n",
    "                key_item = node.key\n",
    "                value_item = node.value\n",
    "                self.put(key_item, value_item)\n",
    "    \n",
    "    def get_node_index(self, bucket_index, key):\n",
    "        node_index = self.buckets[bucket_index].search(key)\n",
    "        return node_index\n",
    "     \n",
    "    def hash_function(self, key):\n",
    "        return abs(hash(key)) % self.capacity\n",
    "        "
   ]
  },
  {
   "cell_type": "code",
   "execution_count": 386,
   "id": "f0b9558c",
   "metadata": {},
   "outputs": [],
   "source": [
    "L = LinkedList()"
   ]
  },
  {
   "cell_type": "code",
   "execution_count": 387,
   "id": "0a14f68d",
   "metadata": {},
   "outputs": [],
   "source": [
    "L.add(2, 20)"
   ]
  },
  {
   "cell_type": "code",
   "execution_count": 388,
   "id": "4b213a7e",
   "metadata": {},
   "outputs": [],
   "source": [
    "L.add(3, 200)"
   ]
  },
  {
   "cell_type": "code",
   "execution_count": 389,
   "id": "e08c2d6e",
   "metadata": {},
   "outputs": [],
   "source": [
    "L.add(4, 2000)"
   ]
  },
  {
   "cell_type": "code",
   "execution_count": 390,
   "id": "28aac2c8",
   "metadata": {},
   "outputs": [
    {
     "name": "stdout",
     "output_type": "stream",
     "text": [
      "2 --> 20   3 --> 200   4 --> 2000   "
     ]
    }
   ],
   "source": [
    "L.traverse()"
   ]
  },
  {
   "cell_type": "code",
   "execution_count": 391,
   "id": "5b623131",
   "metadata": {},
   "outputs": [
    {
     "data": {
      "text/plain": [
       "4"
      ]
     },
     "execution_count": 391,
     "metadata": {},
     "output_type": "execute_result"
    }
   ],
   "source": [
    "L.get_node_at_index(2).key"
   ]
  },
  {
   "cell_type": "code",
   "execution_count": 392,
   "id": "bd221e52",
   "metadata": {},
   "outputs": [],
   "source": [
    "D1 = Dictionary(4)"
   ]
  },
  {
   "cell_type": "code",
   "execution_count": 393,
   "id": "64e106a4",
   "metadata": {},
   "outputs": [
    {
     "name": "stdout",
     "output_type": "stream",
     "text": [
      "0.25\n"
     ]
    }
   ],
   "source": [
    "D1.put(\"python6\", 34)"
   ]
  },
  {
   "cell_type": "code",
   "execution_count": 394,
   "id": "df172e53",
   "metadata": {},
   "outputs": [
    {
     "data": {
      "text/plain": [
       "[<__main__.LinkedList at 0x1b3bd46e760>,\n",
       " <__main__.LinkedList at 0x1b3bd46e460>,\n",
       " <__main__.LinkedList at 0x1b3bd46ec10>,\n",
       " <__main__.LinkedList at 0x1b3bd46ebb0>]"
      ]
     },
     "execution_count": 394,
     "metadata": {},
     "output_type": "execute_result"
    }
   ],
   "source": [
    "D1.buckets"
   ]
  },
  {
   "cell_type": "code",
   "execution_count": 402,
   "id": "95ee8869",
   "metadata": {},
   "outputs": [
    {
     "name": "stdout",
     "output_type": "stream",
     "text": [
      "php --> 3410   "
     ]
    }
   ],
   "source": [
    "D1.buckets[1].traverse()"
   ]
  },
  {
   "cell_type": "code",
   "execution_count": 396,
   "id": "27eab0c6",
   "metadata": {},
   "outputs": [
    {
     "name": "stdout",
     "output_type": "stream",
     "text": [
      "0.5\n"
     ]
    }
   ],
   "source": [
    "D1.put(\"java\", 48)"
   ]
  },
  {
   "cell_type": "code",
   "execution_count": 401,
   "id": "fe7bc0a1",
   "metadata": {},
   "outputs": [
    {
     "name": "stdout",
     "output_type": "stream",
     "text": [
      "2.0\n",
      "0.125\n",
      "0.25\n",
      "0.375\n",
      "0.5\n",
      "0.625\n",
      "0.75\n",
      "0.875\n",
      "1.0\n",
      "1.125\n",
      "1.25\n"
     ]
    }
   ],
   "source": [
    "D1.put(\"php8\", 3410)\n",
    "D1.put(\"c==\", 304)\n",
    "D1.put(\"python5\", 347)\n",
    "D1.put(\"c+\", 34)"
   ]
  },
  {
   "cell_type": "code",
   "execution_count": 398,
   "id": "44b844a3",
   "metadata": {},
   "outputs": [
    {
     "name": "stdout",
     "output_type": "stream",
     "text": [
      "1.75\n"
     ]
    }
   ],
   "source": [
    "D1[\"pytho2n\"] = 53"
   ]
  },
  {
   "cell_type": "code",
   "execution_count": 399,
   "id": "bf3a56e6",
   "metadata": {},
   "outputs": [],
   "source": [
    "del D1[\"java\"]"
   ]
  },
  {
   "cell_type": "code",
   "execution_count": 400,
   "id": "aad31981",
   "metadata": {},
   "outputs": [
    {
     "data": {
      "text/plain": [
       "'Not Present'"
      ]
     },
     "execution_count": 400,
     "metadata": {},
     "output_type": "execute_result"
    }
   ],
   "source": [
    "D1[\"java\"]"
   ]
  },
  {
   "cell_type": "code",
   "execution_count": 403,
   "id": "e78ba7fa",
   "metadata": {},
   "outputs": [
    {
     "name": "stdout",
     "output_type": "stream",
     "text": [
      "python6 --> 34   pytho2n --> 53   php --> 3410   python --> 347   python5 --> 347   c+ --> 34   c --> 304   c== --> 304   c++ --> 34   php8 --> 3410   \n"
     ]
    }
   ],
   "source": [
    "print(D1)"
   ]
  },
  {
   "cell_type": "code",
   "execution_count": null,
   "id": "395924cf",
   "metadata": {},
   "outputs": [],
   "source": []
  }
 ],
 "metadata": {
  "kernelspec": {
   "display_name": "Python 3 (ipykernel)",
   "language": "python",
   "name": "python3"
  },
  "language_info": {
   "codemirror_mode": {
    "name": "ipython",
    "version": 3
   },
   "file_extension": ".py",
   "mimetype": "text/x-python",
   "name": "python",
   "nbconvert_exporter": "python",
   "pygments_lexer": "ipython3",
   "version": "3.9.16"
  }
 },
 "nbformat": 4,
 "nbformat_minor": 5
}
