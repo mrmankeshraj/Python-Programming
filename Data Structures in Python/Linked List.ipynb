{
 "cells": [
  {
   "cell_type": "code",
   "execution_count": 116,
   "id": "7c72ac04",
   "metadata": {},
   "outputs": [],
   "source": [
    "class Node:\n",
    "    \n",
    "    def __init__(self, value):\n",
    "        self.data = value\n",
    "        self.next = None"
   ]
  },
  {
   "cell_type": "code",
   "execution_count": 136,
   "id": "4adaad29",
   "metadata": {},
   "outputs": [],
   "source": [
    "class LinkedList:\n",
    "    \n",
    "    def __init__(self):\n",
    "        # Empty LinkedList\n",
    "        self.head = None\n",
    "        # Number of nodes in the Linked List\n",
    "        self.n = 0\n",
    "        \n",
    "    def __len__(self):\n",
    "        return self.n\n",
    "    \n",
    "    def insert_head(self, value):\n",
    "        # Create a new node\n",
    "        new_node = Node(value)\n",
    "        # Create connection\n",
    "        new_node.next = self.head\n",
    "        # Reassign head\n",
    "        self.head = new_node\n",
    "        # Increment n\n",
    "        self.n += 1\n",
    "        \n",
    "    def __str__(self):\n",
    "        curr = self.head\n",
    "        result = \"\"\n",
    "        \n",
    "        if curr != None:\n",
    "            while curr != None:\n",
    "                result = result + str(curr.data) + \"->\"\n",
    "                curr = curr.next\n",
    "            return result[:-2]\n",
    "        else:\n",
    "            return \"Empty Linked List\"\n",
    "    \n",
    "    def append(self, value):\n",
    "        new_node = Node(value)\n",
    "        \n",
    "        if self.head is None:\n",
    "            self.head = new_node\n",
    "            self.n = self.n + 1\n",
    "            return\n",
    "            \n",
    "        curr = self.head\n",
    "        \n",
    "        # Traverse to the last node\n",
    "        while curr.next != None:\n",
    "            curr = curr.next\n",
    "        # You are the last node\n",
    "        curr.next = new_node\n",
    "        self.n += 1\n",
    "        \n",
    "    def insert_after(self, after, value):\n",
    "        new_node = Node(value)\n",
    "        curr = self.head\n",
    "        \n",
    "        while curr != None:\n",
    "            if curr.data == after:\n",
    "                break\n",
    "            curr = curr.next\n",
    "            \n",
    "        if curr != None:\n",
    "            new_node.next = curr.next\n",
    "            curr.next = new_node\n",
    "            self.n += 1\n",
    "        else:\n",
    "            return \"Item not Found\"\n",
    "        \n",
    "    def clear(self):\n",
    "        self.head = None\n",
    "        self.n = 0\n",
    "        \n",
    "    def delete_head(self):\n",
    "        if self.head is None:\n",
    "            return \"Empty Linked List\"\n",
    "        \n",
    "        self.head = self.head.next\n",
    "        self.n -= 1\n",
    "        \n",
    "    def pop(self):\n",
    "        if self.head is None:\n",
    "            return \"Empty Linked List\"\n",
    "        curr = self.head\n",
    "        \n",
    "        if curr.next is None:\n",
    "            return self.delete_head()\n",
    "\n",
    "        while curr.next.next != None:\n",
    "            curr = curr.next\n",
    "            \n",
    "        curr.next = None\n",
    "        self.n -= 1\n",
    "        \n",
    "    def remove(self, value):\n",
    "        if self.head is None:\n",
    "            return \"Empty Linked List\"\n",
    "        \n",
    "        if self.head.data == value:\n",
    "            return self.delete_head()\n",
    "        else:\n",
    "            return \"Not Found\"\n",
    "        \n",
    "        curr = self.head\n",
    "        \n",
    "        while curr.next != None:\n",
    "            if curr.next.data == value:\n",
    "                break\n",
    "                \n",
    "            curr = curr.next\n",
    "            \n",
    "        if curr.next is None:\n",
    "            return \"Not Found\"\n",
    "        else:\n",
    "            curr.next = curr.next.next\n",
    "        self.n = self - 1       \n",
    "            \n",
    "    def search(self, item):\n",
    "        curr = self.head\n",
    "        pos = 0\n",
    "        \n",
    "        while curr != None:\n",
    "            if curr.data == item:\n",
    "                return pos\n",
    "            curr = curr.next\n",
    "            pos = pos + 1\n",
    "            \n",
    "        return \"Not Found\"\n",
    "    \n",
    "    def __getitem__(self, index):\n",
    "        curr = self.head\n",
    "        pos = 0\n",
    "        \n",
    "        while curr != None:\n",
    "            if pos == index:\n",
    "                return curr.data\n",
    "            curr = curr.next\n",
    "            pos = pos + 1\n",
    "            \n",
    "        return \"Index Error\"      \n",
    "    \n",
    "    def reverse(self):\n",
    "        prev_node = None\n",
    "        curr_node = self.head\n",
    "        \n",
    "        while curr_node != None:\n",
    "            next_node = curr_node.next\n",
    "            curr_node.next = prev_node\n",
    "            prev_node = curr_node\n",
    "            curr_node = next_node\n",
    "            \n",
    "        self.head = prev_node\n",
    "        \n",
    "    def change_sent(self):\n",
    "        temp = self.head\n",
    "        \n",
    "        while temp != None:\n",
    "            if temp.data == \"*\" or temp.data == \"/\":\n",
    "                temp.data = \" \"\n",
    "                \n",
    "                if temp.data == \"*\" or temp.data == \"/\":\n",
    "                    temp.next.next.data = temp.next.next.data.upper()\n",
    "                    temp.next = temp.next.next\n",
    "                    \n",
    "            temp = temp.next\n",
    "            \n",
    "            \n",
    "        "
   ]
  },
  {
   "cell_type": "code",
   "execution_count": 137,
   "id": "3e88b402",
   "metadata": {},
   "outputs": [],
   "source": [
    "sente = LinkedList()"
   ]
  },
  {
   "cell_type": "code",
   "execution_count": 138,
   "id": "fe53711a",
   "metadata": {},
   "outputs": [
    {
     "data": {
      "text/plain": [
       "25"
      ]
     },
     "execution_count": 138,
     "metadata": {},
     "output_type": "execute_result"
    }
   ],
   "source": [
    "len(LL)"
   ]
  },
  {
   "cell_type": "code",
   "execution_count": 139,
   "id": "2a0007f6",
   "metadata": {},
   "outputs": [],
   "source": [
    "sente.insert_head(\"T\")\n",
    "sente.insert_head(\"h\")\n",
    "sente.insert_head(\"e\")\n",
    "sente.insert_head(\"/\")\n",
    "sente.insert_head(\"*\")\n",
    "sente.insert_head(\"s\")\n",
    "sente.insert_head(\"k\")\n",
    "sente.insert_head(\"y\")"
   ]
  },
  {
   "cell_type": "code",
   "execution_count": 140,
   "id": "1e141e0b",
   "metadata": {},
   "outputs": [],
   "source": [
    "LL.append(0)\n",
    "LL.append(1)\n",
    "LL.append(2)\n",
    "LL.append(3)\n",
    "LL.append(4)\n",
    "LL.append(6)\n",
    "LL.append(7)\n",
    "LL.append(8)\n",
    "LL.append(9)\n",
    "LL.append(10)"
   ]
  },
  {
   "cell_type": "code",
   "execution_count": 141,
   "id": "8a739963",
   "metadata": {},
   "outputs": [],
   "source": [
    "LL.insert_after(4, 5)"
   ]
  },
  {
   "cell_type": "code",
   "execution_count": 142,
   "id": "30766261",
   "metadata": {},
   "outputs": [
    {
     "data": {
      "text/plain": [
       "36"
      ]
     },
     "execution_count": 142,
     "metadata": {},
     "output_type": "execute_result"
    }
   ],
   "source": [
    "len(LL)"
   ]
  },
  {
   "cell_type": "code",
   "execution_count": 143,
   "id": "c1087ead",
   "metadata": {},
   "outputs": [
    {
     "name": "stdout",
     "output_type": "stream",
     "text": [
      "y->k->s->*->/->e->h->T->y->k->s-> -> ->e->h->T->9->8->7->6->5->4->5->3->2->1->0->1->2->3->4->6->7->8->9->10\n"
     ]
    }
   ],
   "source": [
    "print(LL)"
   ]
  },
  {
   "cell_type": "code",
   "execution_count": 144,
   "id": "7111b4bd",
   "metadata": {},
   "outputs": [],
   "source": [
    "LL.delete_head()"
   ]
  },
  {
   "cell_type": "code",
   "execution_count": 145,
   "id": "d8c27745",
   "metadata": {},
   "outputs": [
    {
     "name": "stdout",
     "output_type": "stream",
     "text": [
      "k->s->*->/->e->h->T->y->k->s-> -> ->e->h->T->9->8->7->6->5->4->5->3->2->1->0->1->2->3->4->6->7->8->9->10\n"
     ]
    }
   ],
   "source": [
    "print(LL)"
   ]
  },
  {
   "cell_type": "code",
   "execution_count": 146,
   "id": "9c250aa1",
   "metadata": {},
   "outputs": [],
   "source": [
    "LL.pop()"
   ]
  },
  {
   "cell_type": "code",
   "execution_count": 147,
   "id": "a2df1bb2",
   "metadata": {},
   "outputs": [
    {
     "name": "stdout",
     "output_type": "stream",
     "text": [
      "k->s->*->/->e->h->T->y->k->s-> -> ->e->h->T->9->8->7->6->5->4->5->3->2->1->0->1->2->3->4->6->7->8->9\n"
     ]
    }
   ],
   "source": [
    "print(LL)"
   ]
  },
  {
   "cell_type": "code",
   "execution_count": 148,
   "id": "a13fde85",
   "metadata": {},
   "outputs": [
    {
     "name": "stdout",
     "output_type": "stream",
     "text": [
      "k->s->*->/->e->h->T->y->k->s-> -> ->e->h->T->9->8->7->6->5->4->5->3->2->1->0->1->2->3->4->6->7->8->9\n"
     ]
    }
   ],
   "source": [
    "LL.remove(22)\n",
    "print(LL)"
   ]
  },
  {
   "cell_type": "code",
   "execution_count": 149,
   "id": "b10b01a1",
   "metadata": {},
   "outputs": [
    {
     "data": {
      "text/plain": [
       "19"
      ]
     },
     "execution_count": 149,
     "metadata": {},
     "output_type": "execute_result"
    }
   ],
   "source": [
    "LL.search(5)"
   ]
  },
  {
   "cell_type": "code",
   "execution_count": 150,
   "id": "95fbfe2c",
   "metadata": {},
   "outputs": [
    {
     "data": {
      "text/plain": [
       "'T'"
      ]
     },
     "execution_count": 150,
     "metadata": {},
     "output_type": "execute_result"
    }
   ],
   "source": [
    "LL[6]"
   ]
  },
  {
   "cell_type": "code",
   "execution_count": 151,
   "id": "968737be",
   "metadata": {},
   "outputs": [
    {
     "name": "stdout",
     "output_type": "stream",
     "text": [
      "k->s->*->/->e->h->T->y->k->s-> -> ->e->h->T->9->8->7->6->5->4->5->3->2->1->0->1->2->3->4->6->7->8->9\n"
     ]
    }
   ],
   "source": [
    "print(LL)"
   ]
  },
  {
   "cell_type": "code",
   "execution_count": 152,
   "id": "7b8b1820",
   "metadata": {},
   "outputs": [],
   "source": [
    "LL.reverse()"
   ]
  },
  {
   "cell_type": "code",
   "execution_count": 153,
   "id": "3f9dda58",
   "metadata": {},
   "outputs": [
    {
     "name": "stdout",
     "output_type": "stream",
     "text": [
      "9->8->7->6->4->3->2->1->0->1->2->3->5->4->5->6->7->8->9->T->h->e-> -> ->s->k->y->T->h->e->/->*->s->k\n"
     ]
    }
   ],
   "source": [
    "print(LL)"
   ]
  },
  {
   "cell_type": "code",
   "execution_count": null,
   "id": "2d22fcbb",
   "metadata": {},
   "outputs": [],
   "source": []
  },
  {
   "cell_type": "code",
   "execution_count": null,
   "id": "a917b8a0",
   "metadata": {},
   "outputs": [],
   "source": []
  }
 ],
 "metadata": {
  "kernelspec": {
   "display_name": "Python 3 (ipykernel)",
   "language": "python",
   "name": "python3"
  },
  "language_info": {
   "codemirror_mode": {
    "name": "ipython",
    "version": 3
   },
   "file_extension": ".py",
   "mimetype": "text/x-python",
   "name": "python",
   "nbconvert_exporter": "python",
   "pygments_lexer": "ipython3",
   "version": "3.9.16"
  }
 },
 "nbformat": 4,
 "nbformat_minor": 5
}
