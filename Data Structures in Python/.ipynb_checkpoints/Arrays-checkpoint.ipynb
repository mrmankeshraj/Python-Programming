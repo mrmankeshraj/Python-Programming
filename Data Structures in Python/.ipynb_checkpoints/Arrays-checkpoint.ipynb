{
 "cells": [
  {
   "cell_type": "code",
   "execution_count": 5,
   "id": "3e3b82b6",
   "metadata": {},
   "outputs": [],
   "source": [
    "import ctypes"
   ]
  },
  {
   "cell_type": "code",
   "execution_count": 28,
   "id": "a8729c98",
   "metadata": {},
   "outputs": [],
   "source": [
    "class List:\n",
    "\n",
    "    def __init__(self):\n",
    "        self.size = 1\n",
    "        self.n = 0\n",
    "        # Create a C type array with size = self.size\n",
    "        self.A = self.__create_array(self.size)\n",
    "        \n",
    "    def __len__(self):\n",
    "        return self.n\n",
    "    \n",
    "    def __str__(self):\n",
    "        result = \"\"\n",
    "        for i in range(self.n):\n",
    "            result = result + str(self.A[i]) + \",\"\n",
    "            \n",
    "        return \"[\" + result[:-1] + \"]\"\n",
    "    \n",
    "    def __getitem__(self, index):\n",
    "        if 0 <= index < self.n:\n",
    "            return self.A[index]\n",
    "        else:\n",
    "            return \"Index Error - Index out of Bound\"\n",
    "        \n",
    "    def __delitem__(self, pos):\n",
    "        # Delete at specific Index \n",
    "        if 0 <= pos < self.n:\n",
    "            for i in range(pos, self.n-1):\n",
    "                self.A[i] = self.A[i+1]\n",
    "                \n",
    "            self.n = self.n - 1 \n",
    "        elif pos == self.n == 0:\n",
    "            print(\"Empty List\")\n",
    "        else:\n",
    "            print(\"Index Error -  Index out of bound\")\n",
    "             \n",
    "    def append(self, item):\n",
    "        if self.n == self.size:\n",
    "            # Resize\n",
    "            self.__resize(self.size*2)\n",
    "        # Append\n",
    "        self.A[self.n] = item\n",
    "        self.n = self.n + 1\n",
    "        \n",
    "    def pop(self):\n",
    "        if self.n == 0:\n",
    "            return \"Empty List\"\n",
    "        print(self.A[self.n-1])\n",
    "        self.n = self.n - 1\n",
    "        \n",
    "    def clear(self):\n",
    "        self.n = 0\n",
    "        self.size = 1\n",
    "        \n",
    "    def find(self, item):\n",
    "        for i in range(self.n):\n",
    "            if self.A[i] == item:\n",
    "                return i\n",
    "            \n",
    "        return \"Value Error - Value Not in List\"\n",
    "    \n",
    "    def insert(self, pos, item):\n",
    "        if self.n == self.size:\n",
    "            self.__resize(self.size*2)\n",
    "            \n",
    "        for i in range(self.n, pos, -1):\n",
    "            self.A[i] = self.A[i-1]\n",
    "            \n",
    "        self.A[pos] = item\n",
    "        self.n = self.n + 1\n",
    "        \n",
    "    def remove(self, item):\n",
    "        pos = self.find(item)\n",
    "        \n",
    "        if type(pos) == int:\n",
    "            # Delete\n",
    "            self.__delitem__(pos)\n",
    "        else:\n",
    "            return pos   \n",
    "           \n",
    "    def __resize(self, new_capacity):\n",
    "        # Create a array with new capacity\n",
    "        B = self.__create_array(new_capacity)\n",
    "        self.size = new_capacity\n",
    "        # Copy the content of A to B \n",
    "        for i in range(self.n):\n",
    "            B[i] = self.A[i]\n",
    "        # Reassign A\n",
    "        self.A = B\n",
    "        \n",
    "        \n",
    "    def __create_array(self, capacity):\n",
    "        # Creates a C type array(static, referential) with size capacity\n",
    "        return (capacity*ctypes.py_object)()\n",
    "\n"
   ]
  },
  {
   "cell_type": "code",
   "execution_count": 29,
   "id": "a083a40b",
   "metadata": {},
   "outputs": [],
   "source": [
    "L = List()"
   ]
  },
  {
   "cell_type": "code",
   "execution_count": 30,
   "id": "de3f54d4",
   "metadata": {},
   "outputs": [
    {
     "name": "stdout",
     "output_type": "stream",
     "text": [
      "[]\n"
     ]
    }
   ],
   "source": [
    "print(L)"
   ]
  },
  {
   "cell_type": "code",
   "execution_count": 31,
   "id": "7bb8abda",
   "metadata": {},
   "outputs": [],
   "source": [
    "L.append(\"Hello\")\n",
    "L.append(3.4)\n",
    "L.append(True)\n",
    "L.append(100)"
   ]
  },
  {
   "cell_type": "code",
   "execution_count": 10,
   "id": "8e966637",
   "metadata": {},
   "outputs": [
    {
     "data": {
      "text/plain": [
       "4"
      ]
     },
     "execution_count": 10,
     "metadata": {},
     "output_type": "execute_result"
    }
   ],
   "source": [
    "len(L)"
   ]
  },
  {
   "cell_type": "code",
   "execution_count": 11,
   "id": "ec9c5fd9",
   "metadata": {},
   "outputs": [
    {
     "name": "stdout",
     "output_type": "stream",
     "text": [
      "[Hello,3.4,True,100]\n"
     ]
    }
   ],
   "source": [
    "print(L)"
   ]
  },
  {
   "cell_type": "code",
   "execution_count": 12,
   "id": "0a4b8d2d",
   "metadata": {},
   "outputs": [
    {
     "data": {
      "text/plain": [
       "100"
      ]
     },
     "execution_count": 12,
     "metadata": {},
     "output_type": "execute_result"
    }
   ],
   "source": [
    "L[3]"
   ]
  },
  {
   "cell_type": "code",
   "execution_count": 13,
   "id": "a8c5549b",
   "metadata": {},
   "outputs": [
    {
     "name": "stdout",
     "output_type": "stream",
     "text": [
      "100\n"
     ]
    }
   ],
   "source": [
    "L.pop()"
   ]
  },
  {
   "cell_type": "code",
   "execution_count": 14,
   "id": "2a0b2af7",
   "metadata": {},
   "outputs": [
    {
     "name": "stdout",
     "output_type": "stream",
     "text": [
      "[Hello,3.4,True]\n"
     ]
    }
   ],
   "source": [
    "print(L)"
   ]
  },
  {
   "cell_type": "code",
   "execution_count": 15,
   "id": "bc87c0ec",
   "metadata": {},
   "outputs": [
    {
     "data": {
      "text/plain": [
       "'Value Error - Value Not in List'"
      ]
     },
     "execution_count": 15,
     "metadata": {},
     "output_type": "execute_result"
    }
   ],
   "source": [
    "L.find(1000)"
   ]
  },
  {
   "cell_type": "code",
   "execution_count": 16,
   "id": "6499171a",
   "metadata": {},
   "outputs": [],
   "source": [
    "L.insert(3, \"World\")"
   ]
  },
  {
   "cell_type": "code",
   "execution_count": 17,
   "id": "71312531",
   "metadata": {},
   "outputs": [
    {
     "name": "stdout",
     "output_type": "stream",
     "text": [
      "[Hello,3.4,True,World]\n"
     ]
    }
   ],
   "source": [
    "print(L)"
   ]
  },
  {
   "cell_type": "code",
   "execution_count": 40,
   "id": "a3a0119b",
   "metadata": {},
   "outputs": [
    {
     "name": "stdout",
     "output_type": "stream",
     "text": [
      "[]\n"
     ]
    }
   ],
   "source": [
    "del L[0]\n",
    "print(L)"
   ]
  },
  {
   "cell_type": "code",
   "execution_count": 38,
   "id": "4e369b74",
   "metadata": {},
   "outputs": [
    {
     "name": "stdout",
     "output_type": "stream",
     "text": [
      "[]\n"
     ]
    }
   ],
   "source": [
    "L.remove(\"World\")\n",
    "print(L)"
   ]
  },
  {
   "cell_type": "code",
   "execution_count": null,
   "id": "fbd14704",
   "metadata": {},
   "outputs": [],
   "source": []
  }
 ],
 "metadata": {
  "kernelspec": {
   "display_name": "Python 3 (ipykernel)",
   "language": "python",
   "name": "python3"
  },
  "language_info": {
   "codemirror_mode": {
    "name": "ipython",
    "version": 3
   },
   "file_extension": ".py",
   "mimetype": "text/x-python",
   "name": "python",
   "nbconvert_exporter": "python",
   "pygments_lexer": "ipython3",
   "version": "3.9.16"
  }
 },
 "nbformat": 4,
 "nbformat_minor": 5
}
