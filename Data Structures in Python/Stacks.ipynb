{
 "cells": [
  {
   "cell_type": "markdown",
   "id": "b0073c36",
   "metadata": {},
   "source": [
    "## Implementation of stacks using Linked List."
   ]
  },
  {
   "cell_type": "code",
   "execution_count": null,
   "id": "ad426740",
   "metadata": {},
   "outputs": [],
   "source": [
    "class Node:\n",
    "    def __init__(self, value):\n",
    "        self.data = value\n",
    "        self.next = None"
   ]
  },
  {
   "cell_type": "code",
   "execution_count": null,
   "id": "4ddab68c",
   "metadata": {},
   "outputs": [],
   "source": [
    "class Stack:\n",
    "    def __init__(self):\n",
    "        self.top = None\n",
    "        \n",
    "    def isempty(self):\n",
    "        return self.top is None\n",
    "    \n",
    "    def push(self, value):\n",
    "        new_node = Node(value)\n",
    "        new_node.next = self.top\n",
    "        self.top = new_node\n",
    "        \n",
    "    def peek(self):\n",
    "        if (self.isempty()):\n",
    "            return \"Empty stack\"\n",
    "        else:\n",
    "            return self.top.data\n",
    "        \n",
    "    def pop(self):\n",
    "        if (self.isempty()):\n",
    "            return \"Empty stack\"\n",
    "        else:\n",
    "            data = self.top.data\n",
    "            self.top = self.top.next\n",
    "            return data\n",
    "        \n",
    "    def traverse(self):\n",
    "        temp = self.top\n",
    "        \n",
    "        while temp != None:\n",
    "            print(temp.data)\n",
    "            temp = temp.next\n",
    "            \n",
    "    def size(self):\n",
    "        count = 0\n",
    "        temp = self.top\n",
    "        \n",
    "        while temp != None:\n",
    "            temp = temp.next\n",
    "            count += 1\n",
    "        return count\n",
    "    \n",
    "    def reverse(self, text :str):\n",
    "        st = Stack()\n",
    "        for i in text:\n",
    "            st.push(i)\n",
    "            \n",
    "        result = \"\"\n",
    "        while (not st.isempty()):\n",
    "            result = result + st.pop() \n",
    "            \n",
    "        print(result)\n",
    "            "
   ]
  },
  {
   "cell_type": "code",
   "execution_count": null,
   "id": "f2940ec6",
   "metadata": {},
   "outputs": [],
   "source": [
    "    def reverse(text :str):\n",
    "        s = Stack()\n",
    "        for i in text:\n",
    "            s.push(i)\n",
    "            \n",
    "        result = \"\"\n",
    "        while (not s.isempty()):\n",
    "            result = result + s.pop() \n",
    "            \n",
    "        print(result)\n",
    "        \n",
    "    def text_editor(text :str, pattern :str):\n",
    "        u = Stack()\n",
    "        r = Stack()\n",
    "        \n",
    "        for i in text:\n",
    "            u.push(i)\n",
    "        for i in pattern:\n",
    "            if i == \"u\":\n",
    "                data = u.pop()\n",
    "                r.push(data)\n",
    "            else:\n",
    "                data = r.pop()\n",
    "                u.push(data)\n",
    "                \n",
    "        res = \"\"        \n",
    "        while (not u.isempty()):\n",
    "            res = u.pop() + res\n",
    "            \n",
    "        print(res)\n",
    "    "
   ]
  },
  {
   "cell_type": "code",
   "execution_count": null,
   "id": "9d03b2db",
   "metadata": {},
   "outputs": [],
   "source": [
    "st = Stack()"
   ]
  },
  {
   "cell_type": "code",
   "execution_count": null,
   "id": "23867708",
   "metadata": {},
   "outputs": [],
   "source": [
    "st.isempty()"
   ]
  },
  {
   "cell_type": "code",
   "execution_count": null,
   "id": "09cb15c1",
   "metadata": {},
   "outputs": [],
   "source": [
    "st.push(1)"
   ]
  },
  {
   "cell_type": "code",
   "execution_count": null,
   "id": "ecdf23a1",
   "metadata": {},
   "outputs": [],
   "source": [
    "st.isempty()"
   ]
  },
  {
   "cell_type": "code",
   "execution_count": null,
   "id": "7ccbfdc8",
   "metadata": {},
   "outputs": [],
   "source": [
    "st.push(2)\n",
    "st.push(3)\n",
    "st.push(4)"
   ]
  },
  {
   "cell_type": "code",
   "execution_count": null,
   "id": "18610aa5",
   "metadata": {},
   "outputs": [],
   "source": [
    "st.traverse()"
   ]
  },
  {
   "cell_type": "code",
   "execution_count": null,
   "id": "39535562",
   "metadata": {},
   "outputs": [],
   "source": [
    "st.size()"
   ]
  },
  {
   "cell_type": "code",
   "execution_count": null,
   "id": "f63b805e",
   "metadata": {},
   "outputs": [],
   "source": [
    "st.peek()"
   ]
  },
  {
   "cell_type": "code",
   "execution_count": null,
   "id": "1848dd14",
   "metadata": {},
   "outputs": [],
   "source": [
    "st.pop()"
   ]
  },
  {
   "cell_type": "code",
   "execution_count": null,
   "id": "3f939ceb",
   "metadata": {},
   "outputs": [],
   "source": [
    "st.traverse()"
   ]
  },
  {
   "cell_type": "code",
   "execution_count": null,
   "id": "3e7f6ab8",
   "metadata": {},
   "outputs": [],
   "source": [
    "st.size()"
   ]
  },
  {
   "cell_type": "code",
   "execution_count": null,
   "id": "dd49aa6f",
   "metadata": {},
   "outputs": [],
   "source": [
    "st.reverse(\"Hello\")"
   ]
  },
  {
   "cell_type": "code",
   "execution_count": null,
   "id": "1f6a6783",
   "metadata": {},
   "outputs": [],
   "source": [
    "text_editor(\"mankeshraj\", \"uuuruuruuu\")"
   ]
  },
  {
   "cell_type": "markdown",
   "id": "ba98b71d",
   "metadata": {},
   "source": [
    "## Implementation of stacks using arrays"
   ]
  },
  {
   "cell_type": "code",
   "execution_count": 77,
   "id": "37867630",
   "metadata": {},
   "outputs": [],
   "source": [
    "class Stack:\n",
    "    def __init__(self, size):\n",
    "        self.size = size\n",
    "        self.__stack = [None] * self.size\n",
    "        self.top = -1\n",
    "        \n",
    "    def push(self, value):\n",
    "        if self.top == self.size - 1:\n",
    "            return \"Stack Overflow\"\n",
    "        else:\n",
    "            self.top += 1\n",
    "            self.__stack[self.top] = value\n",
    "            \n",
    "    def pop(self):\n",
    "        if self.top == -1:\n",
    "            return \"Stack Empty\"\n",
    "        else:\n",
    "            data = self.__stack[self.top]\n",
    "            self.top -= 1\n",
    "            \n",
    "    def traverse(self):\n",
    "        for i in range(self.top + 1):\n",
    "            print(self.__stack[i])\n",
    "            \n",
    "            "
   ]
  },
  {
   "cell_type": "code",
   "execution_count": 78,
   "id": "c945290a",
   "metadata": {},
   "outputs": [],
   "source": [
    "s = Stack(3)"
   ]
  },
  {
   "cell_type": "code",
   "execution_count": 79,
   "id": "65d74e04",
   "metadata": {},
   "outputs": [],
   "source": [
    "s.push(7)\n",
    "s.push(8)\n",
    "s.push(9)"
   ]
  },
  {
   "cell_type": "code",
   "execution_count": 80,
   "id": "6b0e4be4",
   "metadata": {},
   "outputs": [],
   "source": [
    "s.pop()"
   ]
  },
  {
   "cell_type": "code",
   "execution_count": 81,
   "id": "0c4da187",
   "metadata": {},
   "outputs": [
    {
     "name": "stdout",
     "output_type": "stream",
     "text": [
      "7\n",
      "8\n"
     ]
    }
   ],
   "source": [
    "s.traverse()"
   ]
  },
  {
   "cell_type": "code",
   "execution_count": 82,
   "id": "85ed152a",
   "metadata": {},
   "outputs": [
    {
     "data": {
      "text/plain": [
       "3"
      ]
     },
     "execution_count": 82,
     "metadata": {},
     "output_type": "execute_result"
    }
   ],
   "source": [
    "s.size"
   ]
  }
 ],
 "metadata": {
  "kernelspec": {
   "display_name": "Python 3 (ipykernel)",
   "language": "python",
   "name": "python3"
  },
  "language_info": {
   "codemirror_mode": {
    "name": "ipython",
    "version": 3
   },
   "file_extension": ".py",
   "mimetype": "text/x-python",
   "name": "python",
   "nbconvert_exporter": "python",
   "pygments_lexer": "ipython3",
   "version": "3.9.16"
  }
 },
 "nbformat": 4,
 "nbformat_minor": 5
}
