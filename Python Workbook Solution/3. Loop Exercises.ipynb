{
 "cells": [
  {
   "cell_type": "markdown",
   "id": "f78fac12",
   "metadata": {},
   "source": [
    "### Exercise 61: Average\n",
    "(26 Lines)\n",
    "In this exercise you will create a program that computes the average of a collection of values entered by the user. The user will enter 0 as a sentinel value to indicate that no further values will be provided. Your program should display an appropriate error message if the first value entered by the user is 0.\n",
    "Hint: Because the 0 marks the end of the input it should not be included in the average."
   ]
  },
  {
   "cell_type": "code",
   "execution_count": null,
   "id": "ded2148a",
   "metadata": {},
   "outputs": [],
   "source": [
    "num1 = []\n",
    "\n",
    "while True:\n",
    "    try:\n",
    "        num = int(input(\"Enter the Values, Enter 0 as last Value: \"))\n",
    "        if num == 0:\n",
    "            break\n",
    "        num1.append(num)\n",
    "    except ValueError:\n",
    "        print(\"Error, Only numeric Values are accepted.\") \n",
    "        continue\n",
    "        \n",
    "if num1 != []: \n",
    "    avg = sum(num1)/len(num1)\n",
    "    print(f\"The Avarage of the Entered Values is {avg:.2f}\")\n",
    "else:\n",
    "    print(\"First Value can't be zero.\")"
   ]
  },
  {
   "cell_type": "markdown",
   "id": "9e37524e",
   "metadata": {},
   "source": [
    "### Exercise 62: Discount Table\n",
    "(18 Lines)\n",
    "A particular retailer is having a 60 percent off sale on a variety of discontinued products. The retailer would like to help its customers determine the reduced price of the merchandise by having a printed discount table on the shelf that shows the original prices and the prices after the discount has been applied. Write a program that uses a loop to generate this table, showing the original price, the discount amount, and the new price for purchases of $4.95, $9.95, $14.95, $19.95 and $24.95. Ensure that the discount amounts and the new prices are rounded to 2 decimal places when they are displayed."
   ]
  },
  {
   "cell_type": "code",
   "execution_count": null,
   "id": "c1d752c8",
   "metadata": {},
   "outputs": [],
   "source": [
    "D = 0.60\n",
    "lst = [4.95, 9.95, 14.95, 24.95]\n",
    "\n",
    "print(f\"Old Price --> Discount --> New Price\")\n",
    "for i in lst:\n",
    "    disc = i * 0.60\n",
    "    n = i - disc\n",
    "    print(f\"   {i}  ------> {disc:.2f} -----> {n:.2f}\") "
   ]
  },
  {
   "cell_type": "markdown",
   "id": "e343454d",
   "metadata": {},
   "source": [
    "### Exercise 63: Temperature Conversion Table\n",
    "(22 Lines)\n",
    "Write a program that displays a temperature conversion table for degrees Celsius and degrees Fahrenheit. The table should include rows for all temperatures between 0 and 100 degrees Celsius that are multiples of 10 degrees Celsius. Include appropriate headings on your columns. The formula for converting between degrees Celsius and degrees Fahrenheit can be found on the internet."
   ]
  },
  {
   "cell_type": "code",
   "execution_count": null,
   "id": "e5e617bc",
   "metadata": {},
   "outputs": [],
   "source": [
    "print(f\"Deegree Celsius -----> Fahrenheit\")\n",
    "\n",
    "for i in range(1, 101):\n",
    "    if i % 10 == 0:\n",
    "        n = (i*1.8) + 32\n",
    "        print(f\"      {i} --------------> {n:.2f}\")"
   ]
  },
  {
   "cell_type": "markdown",
   "id": "34a2035b",
   "metadata": {},
   "source": [
    "### Exercise 64: No More Pennies\n",
    "(Solved—38 Lines)\n",
    "February 4, 2013 was the last day that pennies were distributed by the Royal Canadian Mint. Now that pennies have been phased out retailers must adjust totals so that they are multiples of 5 cents when they are paid for with cash (credit card and debit card transactions continue to be charged to the penny). While retailers have some freedom in how they do this, most choose to round to the closest nickel.\n",
    "Write a program that reads prices from the user until a blank line is entered. Display the total cost of all the entered items on one line, followed by the amount due if the customer pays with cash on a second line. The amount due for a cash payment should be rounded to the nearest nickel. One way to compute the cash payment amount is to begin by determining how many pennies would be needed to pay the total. Then compute the remainder when this number of pennies is divided by 5. Finally, adjust the total down if the remainder is less than 2.5. Otherwise adjust the total up."
   ]
  },
  {
   "cell_type": "code",
   "execution_count": null,
   "id": "ec07c377",
   "metadata": {},
   "outputs": [],
   "source": [
    "prices1 = []\n",
    "total = 0\n",
    "pennies = 0\n",
    "\n",
    "while True:\n",
    "    try:\n",
    "        prices = float(input(\"Enter the Prices of items (Blank to quit): \"))\n",
    "        prices1.append(prices)\n",
    "    except ValueError:\n",
    "        pennies = sum(prices1) % 0.05\n",
    "        if pennies < 0.025:\n",
    "            total = sum(prices1) - pennies\n",
    "        else:\n",
    "            total = sum(prices1) - pennies + 0.05\n",
    "        break\n",
    "if prices1 != []:    \n",
    "    cash = float(input(\"Enter the cash Amount paid: \"))\n",
    "    cash = cash - total\n",
    "    print(f\"The Total Values of item is {total}\")\n",
    "    print(f\"The Amount due is {cash}\")\n",
    "else:\n",
    "    print(\"You have not purchased any item.\")       "
   ]
  },
  {
   "cell_type": "markdown",
   "id": "fa5265b6",
   "metadata": {},
   "source": [
    "### Exercise 65: Compute the Perimeter of a Polygon\n",
    "(Solved—42 Lines)\n",
    "Write a program that computes the perimeter of a polygon. Begin by reading the x and y values for the first point on the perimeter of the polygon from the user. Then continue reading pairs of x and y values until the user enters a blank line for the x-coordinate. Each time you read an additional coordinate you should compute the distance to the previous point and add it to the perimeter. When a blank line is entered for the x-coordinate your program should add the distance from the last point back to the first point to the perimeter. Then it should display the total perimeter. Sample input and output is shown below, with user input shown in bold:\n",
    "\n",
    "Enter the x part of the coordinate: 0\n",
    "\n",
    "Enter the y part of the coordinate: 0\n",
    "\n",
    "Enter the x part of the coordinate: (blank to quit): 1\n",
    "\n",
    "Enter the y part of the coordinate: 0\n",
    "\n",
    "Enter the x part of the coordinate: (blank to quit): 0\n",
    "\n",
    "Enter the y part of the coordinate: 1\n",
    "\n",
    "Enter the x part of the coordinate: (blank to quit):\n",
    "\n",
    "The perimeter of that polygon is 3.414213562373095"
   ]
  },
  {
   "cell_type": "code",
   "execution_count": null,
   "id": "917c9806",
   "metadata": {},
   "outputs": [],
   "source": [
    "from math import sqrt\n",
    "perimeter = 0\n",
    "\n",
    "first_x = float(input(\"Enter the value of x-coordinate: \"))\n",
    "first_y = float(input(\"Enter the value of y-coordinate: \"))       \n",
    "prev_x = first_x\n",
    "prev_y = first_y\n",
    "\n",
    "line = input(\"Enter the x-coordinate (Blank to Quit): \")\n",
    "\n",
    "while line != \"\":\n",
    "    x = float(line)\n",
    "    y = float(input(\"Enter the value of y-coordinate: \"))\n",
    "    \n",
    "    dist = sqrt((prev_x - x)**2 + (prev_y - y)**2)\n",
    "    perimeter = perimeter + dist\n",
    "    \n",
    "    prev_x = x\n",
    "    prev_y = y\n",
    "    \n",
    "    line = input(\"Enter the x-coordinate (Blank to Quit): \")\n",
    "    \n",
    "dist = sqrt((first_x - x)**2 + (first_y - y)**2)\n",
    "perimeter = perimeter + dist\n",
    "print(f\"The Perimeter of the Polygon is {perimeter:.2f}\") "
   ]
  },
  {
   "cell_type": "markdown",
   "id": "626d6787",
   "metadata": {},
   "source": [
    "### Exercise 66: Compute a Grade Point Average\n",
    "(62 Lines)\n",
    "Exercise 51 included a table that shows the conversion from letter grades to grade points at a particular academic institution. In this exercise you will compute the grade point average of an arbitrary number of letter grades entered by the user. The user will enter a blank line to indicate that all of the grades have been provided. For example, if the user enters A, followed by C+, followed by B, followed by a blank line then your program should report a grade point average of 3.1.\n",
    "You may find your solution to Exercise 51 helpful when completing this exercise. Your program does not need to do any error checking. It can assume that each value entered by the user will always be a valid letter grade or a blank line."
   ]
  },
  {
   "cell_type": "code",
   "execution_count": null,
   "id": "986dd667",
   "metadata": {},
   "outputs": [],
   "source": [
    "grade = input(\"Enter the grade letter (press enter to quit): \")\n",
    "avg = []\n",
    "\n",
    "while grade != \"\":\n",
    "    if grade == \"A+\":\n",
    "        grade_points = 4.5\n",
    "    elif grade == \"A\":\n",
    "        grade_points = 4.0\n",
    "    elif grade == \"A-\":\n",
    "        grade_points = 3.7\n",
    "    elif grade == \"B+\":\n",
    "        grade_points = 3.3\n",
    "    elif grade == \"B\":\n",
    "        grade_points = 3.0\n",
    "    elif grade == \"B-\":\n",
    "        grade_points = 2.7\n",
    "    elif grade == \"C+\":\n",
    "        grade_points = 2.3\n",
    "    elif grade == \"C\":\n",
    "        grade_points = 2.0\n",
    "    elif grade == \"C-\":\n",
    "        grade_points = 1.7\n",
    "    elif grade == \"D+\":\n",
    "        grade_points = 1.3\n",
    "    elif grade == \"D\":\n",
    "        grade_points = 1.0\n",
    "    elif grade == \"F\":\n",
    "        grade_points = 0.0\n",
    "    else:\n",
    "        grade_points = None\n",
    "    avg.append(grade_points)\n",
    "    grade = input(\"Enter the grade letter (press enter to quit): \")\n",
    "    \n",
    "avg = sum(avg)/len(avg)\n",
    "print(f\"Your CGPA is {avg} Grade Points\")"
   ]
  },
  {
   "cell_type": "markdown",
   "id": "4c0c8718",
   "metadata": {},
   "source": [
    "### Exercise 67: Admission Price\n",
    "(Solved—38 Lines)\n",
    "A particular zoo determines the price of admission based on the age of the guest. Guests 2 years of age and less are admitted without charge. Children between 3 and 12 years of age cost $14.00. Seniors aged 65 years and over cost $18.00. Admission for all other guests is $23.00.\n",
    "Create a program that begins by reading the ages of all of the guests in a group from the user, with one age entered on each line. The user will enter a blank line to indicate that there are no more guests in the group. Then your program should display the admission cost for the group with an appropriate message. The cost should be displayed using two decimal places."
   ]
  },
  {
   "cell_type": "code",
   "execution_count": null,
   "id": "356e9611",
   "metadata": {},
   "outputs": [],
   "source": [
    "BABY_PRICE = 0\n",
    "CHILD_PRICE = 14\n",
    "SENIORS_PRICE = 18\n",
    "ADULT_PRICE = 23\n",
    "\n",
    "BABY_LIMIT = 2\n",
    "CHILD_LIMIT = 12\n",
    "ADULT_LIMIT = 64\n",
    "\n",
    "total = 0\n",
    "\n",
    "line = input(\"Enter the age of the visitor (Blank to finish): \")\n",
    "\n",
    "while line != \"\":\n",
    "    \n",
    "    age = int(line)\n",
    "    \n",
    "    if age <= BABY_LIMIT:\n",
    "        total = total + BABY_PRICE\n",
    "    elif age <= CHILD_LIMIT:\n",
    "        total = total + CHILD_PRICE\n",
    "    elif age <= ADULT_LIMIT:\n",
    "        total = total + ADULT_PRICE\n",
    "    else:\n",
    "        total + SENIORS_PRICE\n",
    "        \n",
    "    line = input(\"Enter the age of the visitor (Blank to finish): \")\n",
    "\n",
    "print(f\"The Total for the Group is {total}\")  "
   ]
  },
  {
   "cell_type": "markdown",
   "id": "1a95236a",
   "metadata": {},
   "source": [
    "### Exercise 68: Parity Bits\n",
    "(Solved—25 Lines)\n",
    "A parity bit is a simple mechanism for detecting errors in data transmitted over an unreliable connection such as a telephone line. The basic idea is that an additional bit is transmitted after each group of 8 bits so that a single bit error in the transmission can be detected.\n",
    "Parity bits can be computed for either even parity or odd parity. If even parity is selected then the parity bit that is transmitted is chosen so that the total number of one bits transmitted (8 bits of data plus the parity bit) is even. When odd parity is selected the parity bit is chosen so that the total number of one bits transmitted is odd.\n",
    "\n",
    "Write a program that computes the parity bit for groups of 8 bits entered by the user using even parity. Your program should read strings containing 8 bits until the user enters a blank line. After each string is entered by the user your program should display a clear message indicating whether the parity bit should be 0 or 1. Display an appropriate error message if the user enters something other than 8 bits.\n",
    "\n",
    "Hint: You should read the input from the user as a string. Then you can use the count method to help you determine the number of zeros and ones in the string. Information about the count method is available online."
   ]
  },
  {
   "cell_type": "code",
   "execution_count": null,
   "id": "ac00f258",
   "metadata": {},
   "outputs": [],
   "source": [
    "line = input(\"Enter 8-bits: \")\n",
    "\n",
    "while line != \"\":\n",
    "    if line.count(\"0\") + line.count(\"1\") != 8 or len(line) != 8:\n",
    "        print(\"That wasn't 8-bit...Try Again.\")\n",
    "    else:\n",
    "        ones = line.count(\"1\")\n",
    "        if ones % 2 == 0:\n",
    "            print(\"The Parity bit should be 0.\")\n",
    "        else:\n",
    "            print(\"The parity bit should be 1.\")\n",
    "        \n",
    "    line = input(\"Enter 8 bits: \")"
   ]
  },
  {
   "cell_type": "markdown",
   "id": "56e9fcb9",
   "metadata": {},
   "source": [
    "### Exercise 69: Approximate \n",
    "(23 Lines)\n",
    "The value of  can be approximated by the following infinite series:\n",
    "\n",
    " $$\\pi \\approx 3 + \\dfrac{4}{2 \\times 3 \\times 4} - \\dfrac{4}{4 \\times 5 \\times 6} + \\dfrac{4}{6 \\times 7 \\times 8} - \\dfrac{4}{8 \\times 9 \\times 10} + \\dfrac{4}{10 \\times 11 \\times 12} - \\cdots $$ \n",
    " \n",
    "Write a program that displays 15 approximations of . The first approximation should make use of only the first term from the infinite series. Each additional approximation displayed by your program should include one more term in the series, making it a better approximation of  than any of the approximations displayed previously.\n"
   ]
  },
  {
   "cell_type": "code",
   "execution_count": null,
   "id": "828d0f53",
   "metadata": {},
   "outputs": [],
   "source": []
  },
  {
   "cell_type": "markdown",
   "id": "dfc8c6a2",
   "metadata": {},
   "source": [
    "### Exercise 70: Caesar Cipher\n",
    "(Solved—35 Lines)\n",
    "One of the first known examples of encryption was used by Julius Caesar. Caesar needed to provide written instructions to his generals, but he didn’t want his enemies to learn his plans if the message slipped into their hands. As result, he developed what later became known as the Caesar Cipher.\n",
    "\n",
    "The idea behind this cipher is simple (and as a result, it provides no protection against modern code breaking techniques). Each letter in the original message is shifted by 3 places. As a result, A becomes D, B becomes E, C becomes F, D becomes G, etc. The last three letters in the alphabet are wrapped around to the beginning: X becomes A, Y becomes B and Z becomes C. Non-letter characters are not modified by the cipher.\n",
    "\n",
    "Write a program that implements a Caesar cipher. Allow the user to supply the message and the shift amount, and then display the shifted message. Ensure that your program encodes both uppercase and lowercase letters. Your program should also support negative shift values so that it can be used both to encode messages and decode messages."
   ]
  },
  {
   "cell_type": "code",
   "execution_count": null,
   "id": "0c0a75e1",
   "metadata": {},
   "outputs": [],
   "source": [
    "msg = input(\"Enter the message to be ciphered: \")\n",
    "shift = int(input(\"Enter the shift value: \"))\n",
    "\n",
    "new_msg = \"\"\n",
    "for ch in msg:\n",
    "    if ch >= \"a\" and ch <= \"z\":\n",
    "        pos = ord(ch) - ord(\"a\")\n",
    "        pos = (pos + shift) % 26\n",
    "        new_ch = chr(pos + ord(\"a\"))\n",
    "        new_msg = new_msg + new_ch\n",
    "    elif ch >= \"A\" and ch <= \"Z\":\n",
    "        pos = ord(ch) - ord(\"A\")\n",
    "        pos = (pos + shift) % 26\n",
    "        new_ch = chr(pos + ord(\"A\"))\n",
    "        new_msg = new_msg + new_ch\n",
    "    else:\n",
    "        new_msg = new_msg + ch\n",
    "print(f\"The shifted message is {new_msg}\")"
   ]
  },
  {
   "cell_type": "markdown",
   "id": "1cdda3b7",
   "metadata": {},
   "source": [
    "### Exercise 71: Square Root\n",
    "(14 Lines)\n",
    "Write a program that implements Newton’s method to compute and display the square root of a number entered by the user. The algorithm for Newton’s method follows:\n",
    "\n",
    "    Read x from the user\n",
    "    Initialize guess to x/2\n",
    "    While guess is not good enough do\n",
    "        update guess to be the average of guess and x/guess\n",
    "\n",
    "When this algorithm completes, guess contains an approximation of the square root. The quality of the approximation depends on how you define “good enough”. In the author’s solution, guess was considered good enough when the absolute value of the difference between guess  *  guess and  x  was less than or equal to  $$10^{-12}$$ ."
   ]
  },
  {
   "cell_type": "code",
   "execution_count": null,
   "id": "f46ef20b",
   "metadata": {},
   "outputs": [],
   "source": [
    "x = int(input(\"Enter the number: \"))\n",
    "\n",
    "guess = x/2\n",
    "\n",
    "while ((guess*guess) - x) >= pow(10, -12):\n",
    "    guess = (guess + x/guess)/2\n",
    "    \n",
    "print(f\"guess is {guess:.2f}\")"
   ]
  },
  {
   "cell_type": "markdown",
   "id": "1b1d8755",
   "metadata": {},
   "source": [
    "### Exercise 72: Is a String a Palindrome?\n",
    "(Solved—23 Lines)\n",
    "A string is a palindrome if it is identical forward and backward. For example “anna”, “civic”, “level” and “hannah” are all examples of palindromic words. Write a program that reads a string from the user and uses a loop to determines whether or not it is a palindrome. Display the result, including a meaningful output message."
   ]
  },
  {
   "cell_type": "code",
   "execution_count": null,
   "id": "9982a98f",
   "metadata": {},
   "outputs": [],
   "source": [
    "string = input(\"Enter the String: \")\n",
    "is_palindrome = True\n",
    "for i in range(len(string)//2):\n",
    "    if string[i] != string[len(string)-i-1]:\n",
    "        is_palindrome = False\n",
    "if is_palindrome:\n",
    "    print(string, \"is a palindrome\")\n",
    "else:\n",
    "    print(string, \"is not a palindrome\")"
   ]
  },
  {
   "cell_type": "markdown",
   "id": "6465e9e3",
   "metadata": {},
   "source": [
    "### Exercise 73: Multiple Word Palindromes\n",
    "(35 Lines)\n",
    "There are numerous phrases that are palindromes when spacing is ignored. Examples include “go dog”, “flee to me remote elf” and “some men interpret nine memos”, among many others. Extend your solution to Exercise 72 so that it ignores spacing while determining whether or not a string is a palindrome. For an additional challenge, extend your solution so that is also ignores punctuation marks and treats uppercase and lowercase letters as equivalent."
   ]
  },
  {
   "cell_type": "code",
   "execution_count": null,
   "id": "d317bb3f",
   "metadata": {},
   "outputs": [],
   "source": [
    "string = input(\"Enter the String: \")\n",
    "strin = string.replace(\" \", \"\")\n",
    "strin = strin.lower()\n",
    "is_palindrome = True\n",
    "\n",
    "for i in range(len(strin)//2):\n",
    "    if strin[i] != strin[len(strin)-i-1]:\n",
    "        is_palindrome = False\n",
    "if is_palindrome:\n",
    "    print(string, \"is a palindrome\")\n",
    "else:\n",
    "    print(string, \"is not a palindrome\")"
   ]
  },
  {
   "cell_type": "markdown",
   "id": "096c7e96",
   "metadata": {},
   "source": [
    "### Exercise 74: Multiplication Table\n",
    "(Solved—18 Lines)\n",
    "In this exercise you will create a program that displays a multiplication table that shows the products of all combinations of integers from 1 times 1 up to and including 10 times 10. Your multiplication table should include a row of labels across the top of it containing the numbers 1 through 10. It should also include labels down the left side consisting of the numbers 1 through 10. The expected output from the program is shown below:\n",
    "\n",
    "\n",
    "When completing this exercise you will probably find it helpful to be able to print out a value without moving down to the next line. This can be accomplished by added end=\"\" as the last parameter to your print statement. For example, print(\"A\") will display the letter A and then move down to the next line. The statement print(\"A\", end=\"\") will display the letter A without moving down to the next line, causing the next print statement to display its result on the same line as the letter A."
   ]
  },
  {
   "cell_type": "code",
   "execution_count": null,
   "id": "82c4824d",
   "metadata": {},
   "outputs": [],
   "source": [
    "MIN = 1\n",
    "MAX = 11\n",
    "\n",
    "print(\"    \", end=\"\")\n",
    "for i in range(MIN, MAX):\n",
    "    print(\"%4d\" % i, end=\"\")\n",
    "print()\n",
    "\n",
    "for i in range(MIN, MAX):\n",
    "    print(\"%4d\" % i, end=\"\")\n",
    "    for j in range(MIN, MAX):\n",
    "        print(\"%4d\" %(i*j), end=\"\")\n",
    "    print()"
   ]
  },
  {
   "cell_type": "markdown",
   "id": "9876b800",
   "metadata": {},
   "source": [
    "### Exercise 75: Greatest Common Divisor\n",
    "(Solved—17 Lines)\n",
    "The greatest common divisor of two positive integers,  and , is the largest number, , which divides evenly into both  and . There are several algorithms that can be used to solve this problem, including:\n",
    "\n",
    "    Initialize d to the smaller m and n.\n",
    "    While d does not evenly divide m or d does not evenly divide n do\n",
    "    Decrease the value of d by 1\n",
    "    Report d as the greatest common divisor of m and n\n",
    "\n",
    "Write a program that reads two positive integers from the user and uses this algorithm to determine and report their greatest common divisor."
   ]
  },
  {
   "cell_type": "code",
   "execution_count": null,
   "id": "0be06092",
   "metadata": {},
   "outputs": [],
   "source": [
    "n = int(input(\"enter 1st positive number: \"))\n",
    "m = int(input(\"enter 2nd positive number: \"))\n",
    "\n",
    "d = min(m, n)\n",
    "while m % d != 0 or n % d != 0:\n",
    "    d = d - 1\n",
    "print(f\"{d} is the GCD of {m} and {n}\")"
   ]
  },
  {
   "cell_type": "markdown",
   "id": "0b4149e6",
   "metadata": {},
   "source": [
    "### Exercise 76: Prime Factors\n",
    "(27 Lines)\n",
    "The prime factorization of an integer,n , can be determined using the following steps:\n",
    "\n",
    "        Initialize factor to two\n",
    "        While factor is less than or equal to n do\n",
    "            If n is evenly divisible by factor then\n",
    "                Conclude that factor is a factor of n\n",
    "                Divide n by factor using integer division\n",
    "            Else\n",
    "                Increase factor by one\n",
    "\n",
    "Write a program that reads an integer from the user. If the value entered by the user is less than 2 then your program should display an appropriate error message. Otherwise your program should display the prime numbers that can be multiplied together to compute , with one factor appearing on each line. For example:\n",
    "\n",
    "    Enter an integer (2 or graeter): 72\n",
    "    The prime factor of 72 are:\n",
    "    2\n",
    "    2\n",
    "    2\n",
    "    3\n",
    "    3"
   ]
  },
  {
   "cell_type": "code",
   "execution_count": null,
   "id": "de5d5fa2",
   "metadata": {},
   "outputs": [],
   "source": [
    "from math import sqrt\n",
    "n = int(input(\"Enter an integer (2 or greater): \"))\n",
    "\n",
    "if n < 2:\n",
    "    print(\"Error, Enter another value greater than 2.\")\n",
    "    \n",
    "print(f\"The prime factors of {n} are:\")    \n",
    "while n % 2 == 0:\n",
    "    print(f\"{2}\")\n",
    "    n = n/2\n",
    "    \n",
    "for i in range(3, int(sqrt(n))+1, 2):\n",
    "    while n % i == 0:\n",
    "        print(f\"{i}\")\n",
    "        n = n/i"
   ]
  },
  {
   "cell_type": "markdown",
   "id": "9355c660",
   "metadata": {},
   "source": [
    "### Exercise 77: Binary to Decimal\n",
    "(18 Lines)\n",
    "Write a program that converts a binary (base 2) number to decimal (base 10). Your program should begin by reading the binary number from the user as a string. Then it should compute the equivalent decimal number by processing each digit in the binary number. Finally, your program should display the equivalent decimal number with an appropriate message."
   ]
  },
  {
   "cell_type": "code",
   "execution_count": null,
   "id": "61b3d9cf",
   "metadata": {},
   "outputs": [],
   "source": [
    "bin_num = input(\"Enter Binary number: \")\n",
    "y = 0\n",
    "\n",
    "for i in range(0, len(bin_num)):\n",
    "    y = y * 2 + int(bin_num[i])\n",
    "print(f\"The decimal eqivalent of binary {bin_num} is {y}\")"
   ]
  },
  {
   "cell_type": "markdown",
   "id": "3a5bc732",
   "metadata": {},
   "source": [
    "### Exercise 78: Decimal to Binary\n",
    "(Solved—26 Lines)\n",
    "Write a program that converts a decimal (base 10) number to binary (base 2). Read the decimal number from the user as an integer and then use the division algorithm shown below to perform the conversion. When the algorithm completes, result contains the binary representation of the number. Display the result, along with an appropriate message.\n",
    "\n",
    "    Let result be an empty string\n",
    "    Let q represent the number to convert\n",
    "    reapeat\n",
    "        set r equal to the remainder when q is divided by 2\n",
    "        convert r to a string and add it to the begining of the result\n",
    "        Divide q by 2, discarding any remainder, and store the result bach into q\n",
    "    Untill q is zero\n",
    "    "
   ]
  },
  {
   "cell_type": "code",
   "execution_count": null,
   "id": "92b4c9a1",
   "metadata": {},
   "outputs": [],
   "source": [
    "decimal = int(input(\"Enter the number in decimal form\"))\n",
    "\n",
    "result = \"\"\n",
    "q = decimal\n",
    "\n",
    "r = q % 2\n",
    "result = str(r) + result\n",
    "q = q // 2\n",
    "\n",
    "while q > 0:\n",
    "    r = q % 2\n",
    "    result = str(r) + result\n",
    "    q = q // 2\n",
    "    \n",
    "print(f\"{decimal} in Decimal is {result} in Binary\")"
   ]
  },
  {
   "cell_type": "markdown",
   "id": "505268b4",
   "metadata": {},
   "source": [
    "### Exercise 79: Maximum Integer\n",
    "(Solved—34 Lines)\n",
    "This exercise examines the process of identifying the maximum value in a collection of integers. Each of the integers will be randomly selected from the numbers between 1 and 100. The collection of integers may contain duplicate values, and some of the integers between 1 and 100 may not be present.\n",
    "\n",
    "Take a moment and think about how you would handle this problem on paper. Many people would check each integer in sequence and ask themself if the number that they are currently considering is larger than the largest number that they have seen previously. If it is, then they forget the previous maximum number and remember the current number as the new maximum number. This is a reasonable approach, and will result in the correct answer when the process is performed carefully. If you were performing this task, how many times would you expect to need to update the maximum value and remember a new number?\n",
    "\n",
    "While we can answer the question posed at the end of the previous paragraph using probability theory, we are going to explore it by simulating the situation. Create a program that begins by selecting a random integer between 1 and 100. Save this integer as the maximum number encountered so far. After the initial integer has been selected, generate 99 additional random integers between 1 and 100. Check each integer as it is generated to see if it is larger than the maximum number encountered so far. If it is then your program should update the maximum number encountered and count the fact that you performed an n = int(input(\"enter a positive number: \"))n = int(input(\"enter a positive number: \")). Display each integer after you generate it. Include a notation with those integers which represent a new maximum.\n",
    "\n",
    "After you have displayed 100 integers your program should display the maximum value encountered, along with the number of times the maximum value was updated during the process. Partial output for the program is shown below, with...  representing the remaining integers that your program will display. Run your program several times. Is the number of updates performed on the maximum value what you expected?\n",
    "\n",
    "    30\n",
    "    74 <== Update\n",
    "    58\n",
    "    17\n",
    "    40\n",
    "    37\n",
    "    13\n",
    "    34\n",
    "    46\n",
    "    52\n",
    "    80 <== Update\n",
    "    37\n",
    "    97 <== Update\n",
    "    45\n",
    "    55\n",
    "    73\n",
    "    . . . \n",
    "    The maximum value found was 100\n",
    "    The maximum value was updated 5 times\n",
    "    "
   ]
  },
  {
   "cell_type": "code",
   "execution_count": null,
   "id": "60b0620d",
   "metadata": {},
   "outputs": [],
   "source": [
    "from random import randrange\n",
    "\n",
    "NUM_TIMES = 100\n",
    "mx_value = randrange(1, NUM_TIMES + 1)\n",
    "print(mx_value)\n",
    "num_updates = 0\n",
    "\n",
    "for i in range(1, NUM_TIMES):\n",
    "    current = randrange(1, NUM_TIMES + 1)\n",
    "    if current > mx_value:\n",
    "        mx_value = current\n",
    "        num_updates = num_updates + 1\n",
    "        print(current, \"<== Update\")\n",
    "    else:\n",
    "        print(current)\n",
    "print(f\"The maximum value found was {mx_value}\")\n",
    "print(f\"The maximum value was updated {num_updates} times\")"
   ]
  },
  {
   "cell_type": "markdown",
   "id": "c806a24c",
   "metadata": {},
   "source": [
    "### Exercise 80: Coin Flip Simulation\n",
    "(47 Lines)\n",
    "What’s the minimum number of times you have to flip a coin before you can have three consecutive flips that result in the same outcome (either all three are heads or all three are tails)? What’s the maximum number of flips that might be needed? How many flips are needed on average? In this exercise we will explore these questions by creating a program that simulates several series of coin flips.\n",
    "\n",
    "Create a program that uses Python’s random number generator to simulate flipping a coin several times. The simulated coin should be fair, meaning that the probability of heads is equal to the probability of tails. Your program should flip simulated coins until either 3 consecutive heads of 3 consecutive tails occur. Display an H each time the outcome is heads, and a T each time the outcome is tails, with all of the outcomes shown on the same line. Then display the number of flips needed to reach 3 consecutive flips with the same outcome. When your program is run it should perform the simulation 10 times and report the average number of flips needed.\n",
    "\n",
    "Sample output is shown below:\n",
    "\n",
    "    H T T T (4 flips)\n",
    "    H H T T H T H T T H H T H T T H T T T (19 flips)\n",
    "    T T T (3 flips)\n",
    "    T H H H (4 flips)\n",
    "    H H H (3 flips)\n",
    "    T H T T H T H H T T H H T H T H H H (18 flips)\n",
    "    H T T H H H (6 flips)\n",
    "    T H T T T (5 flips)\n",
    "    T T H T T H T H T H H H (12 flips)\n",
    "    T H T T T (5 flips)\n",
    "    On average, 7.9 flips were needed. "
   ]
  },
  {
   "cell_type": "code",
   "execution_count": null,
   "id": "fde37d54",
   "metadata": {
    "scrolled": false
   },
   "outputs": [],
   "source": [
    "import random\n",
    "choice_list = [\"H\", \"T\"]\n",
    "curr = \"\"\n",
    "count = 0\n",
    "count1 = 0\n",
    "count2 = 0\n",
    "\n",
    "while count1 < 10:\n",
    "    flip = random.choice(choice_list)\n",
    "    if len(curr) >= 3:\n",
    "        if curr[-3] == curr[-2] == curr[-1]:\n",
    "            print(f\"({count} flips)\")\n",
    "            count2 = count2 + count\n",
    "            count1 = count1 + 1\n",
    "            count = 0\n",
    "            curr = \"\"\n",
    "    curr = curr + flip\n",
    "    count = count + 1\n",
    "    print(flip, end=\" \")\n",
    "avg = count2/10\n",
    "print(f\"On average {avg} flips were needed.\")"
   ]
  }
 ],
 "metadata": {
  "kernelspec": {
   "display_name": "Python 3 (ipykernel)",
   "language": "python",
   "name": "python3"
  },
  "language_info": {
   "codemirror_mode": {
    "name": "ipython",
    "version": 3
   },
   "file_extension": ".py",
   "mimetype": "text/x-python",
   "name": "python",
   "nbconvert_exporter": "python",
   "pygments_lexer": "ipython3",
   "version": "3.9.16"
  }
 },
 "nbformat": 4,
 "nbformat_minor": 5
}
