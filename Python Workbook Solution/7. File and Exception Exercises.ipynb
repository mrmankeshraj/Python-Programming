{
 "cells": [
  {
   "cell_type": "markdown",
   "id": "5dae446a",
   "metadata": {},
   "source": [
    "### Exercise 141: Display the Head of a File\n",
    "(Solved—40 Lines)\n",
    "Unix-based operating systems usually include a tool named head. It displays the first 10 lines of a file whose name is provided as a command line parameter. Write a Python program that provides the same behavior. Display an appropriate error message if the file requested by the user does not exist or if the command line parameter is omitted."
   ]
  },
  {
   "cell_type": "code",
   "execution_count": null,
   "id": "11b800c1",
   "metadata": {},
   "outputs": [],
   "source": [
    "import sys\n",
    "\n",
    "NUM_LINES = 10\n",
    "\n",
    "if len(sys.argv) != 2:\n",
    "    print(\"You must provide the file name as a command line parameter.\")\n",
    "    quit()\n",
    "try:\n",
    "    with open(sys.argv[1], \"r\") as file:\n",
    "        line = file.readline()\n",
    "        count  = 0\n",
    "        while count < NUM_LINES and line != \"\":\n",
    "            line = line.rstrip()\n",
    "            count = count + 1\n",
    "            print(line)\n",
    "            line = file.readline()\n",
    "except IOError:\n",
    "    print(\"An Error occured While accessing the file.\")    "
   ]
  },
  {
   "cell_type": "markdown",
   "id": "3e3d7022",
   "metadata": {},
   "source": [
    "### Exercise 142: Display the Tail of a File\n",
    "(Solved—35 Lines)\n",
    "Unix-based operating systems also typically include a tool named tail. It displays the last 10 lines of a file whose name is provided as a command line parameter. Write a Python program that provides the same behavior. Display an appropriate error message if the file requested by the user does not exist or if the command line parameter is omitted.\n",
    "\n",
    "There are several different approaches that can be taken to solve this problem. One option is to load the entire contents of the file into a list and then display the last 10 elements. Another option is to read the contents of the file twice, once to count the lines, and a second time to display the last 10 lines. However, both of these solutions are undesirable when working with large files. Another solution exists that only requires you to read the file once, and only requires you to store 10 lines from the file at one time. For an added challenge, develop such a solution."
   ]
  },
  {
   "cell_type": "code",
   "execution_count": null,
   "id": "4002eb17",
   "metadata": {},
   "outputs": [],
   "source": [
    "import sys\n",
    "\n",
    "NUM_LINES = 10\n",
    "lines = []\n",
    "\n",
    "if len(sys.argv) != 2:\n",
    "    print(\"You must provide the file name as a command line parameter.\")\n",
    "    quit()\n",
    "try:\n",
    "    with open(sys.argv[1], \"r\") as file:\n",
    "        for line in file:\n",
    "            lines.append(line)\n",
    "            if len(lines) > 10:\n",
    "                lines.pop(0)        \n",
    "except IOError:\n",
    "    print(\"An Error occured while processing the file.\")\n",
    "    quit()\n",
    "    \n",
    "for line in lines:\n",
    "    print(line, end=\"\")"
   ]
  },
  {
   "cell_type": "markdown",
   "id": "c6f74162",
   "metadata": {},
   "source": [
    "### Exercise 143: Concatenate Multiple Files\n",
    "(Solved—27 Lines)\n",
    "Unix-based operating systems typically include a tool named cat, which is short for concatenate. Its purpose is to concatenate and display one or more files whose names are provided as command line parameters. The files are displayed in the same order that they appear on the command line.\n",
    "\n",
    "Create a Python program that performs this task. It should generate an appropriate error message for any file that cannot be displayed, and then proceed to the next file. Display an appropriate error message if your program is started without any command line parameters."
   ]
  },
  {
   "cell_type": "code",
   "execution_count": null,
   "id": "5ee8c160",
   "metadata": {},
   "outputs": [],
   "source": [
    "import sys\n",
    "\n",
    "if len(sys.argv) == 1:\n",
    "    print(\"You must provide the files name as a command line parameter.\")\n",
    "    quit()\n",
    "    \n",
    "for i in range(1, len(sys.argv)):\n",
    "    try:\n",
    "        with open(sys.argv[i], \"r\") as file:\n",
    "            for line in file:\n",
    "                print(line, end=\"\")\n",
    "            print(f\"File: {file} Ends here\")\n",
    "    except IOError:\n",
    "        print(f\"Couldn't open/display file: {file}\")\n",
    "        "
   ]
  },
  {
   "cell_type": "markdown",
   "id": "a1696df4",
   "metadata": {},
   "source": [
    "### Exercise 144: Number the Lines in a File\n",
    "(23 Lines)\n",
    "Create a program that adds line numbers to a file. The name of the input file will be read from the user, as will the name of the new file that your program will create. Each line in the output file should begin with the line number, followed by a colon and a space, followed by the line from the input file."
   ]
  },
  {
   "cell_type": "code",
   "execution_count": null,
   "id": "f0bf2aa3",
   "metadata": {},
   "outputs": [],
   "source": [
    "infile = input(\"Enter the file name to be read: \")\n",
    "outfile = input(\"Enter the name of file to be written: \")\n",
    "print()\n",
    "\n",
    "try:\n",
    "    with open(infile, \"r\") as inf:\n",
    "        with open(outfile, \"w\") as outf:\n",
    "            i = 1\n",
    "            line = inf.readline()\n",
    "            while line:\n",
    "                line = str(i) + \": \" + line\n",
    "                outf.write(line)\n",
    "                i += 1\n",
    "                line = inf.readline()\n",
    "        with open(outfile, \"r\") as outf:\n",
    "            for line in outf:\n",
    "                print(line) \n",
    "except IOError:\n",
    "    print(\"Couldn't open/display file.\")"
   ]
  },
  {
   "cell_type": "markdown",
   "id": "d60aa862",
   "metadata": {},
   "source": [
    "### Exercise 145: Find the Longest Word in a File\n",
    "(39 Lines)\n",
    "In this exercise you will create a Python program that identifies the longest word(s) in a file. Your program should output an appropriate message that includes the length of the longest word, along with all of the words of that length that occurred in the file. Treat any group of non-white space characters as a word, even if it includes numbers or punctuation marks."
   ]
  },
  {
   "cell_type": "code",
   "execution_count": null,
   "id": "5889a5b6",
   "metadata": {},
   "outputs": [],
   "source": [
    "filename = input(\"Enter the file name: \")\n",
    "\n",
    "# Open the file and read its contents\n",
    "try:\n",
    "    with open(filename, \"r\") as file:\n",
    "        contents = file.read()\n",
    "except IOError:\n",
    "    print(\"Could not open file\")\n",
    "    exit()\n",
    "\n",
    "# Split the contents into words\n",
    "words = contents.split()\n",
    "\n",
    "# Find the length of the longest word\n",
    "max_length = max(len(word) for word in words)\n",
    "\n",
    "# Find all the words with the longest length\n",
    "longest_words = [word for word in words if len(word) == max_length]\n",
    "\n",
    "# Output the results\n",
    "if len(longest_words) == 1:\n",
    "    print(f\"The longest word in the file is {longest_words[0]} with length {max_length}.\")\n",
    "else:\n",
    "    print(f\"There are {len(longest_words)} words with length {max_length}:\")\n",
    "    for word in longest_words:\n",
    "        print(word)"
   ]
  },
  {
   "cell_type": "markdown",
   "id": "8ab393a0",
   "metadata": {},
   "source": [
    "### Exercise 146: Letter Frequencies\n",
    "(43 Lines)\n",
    "One technique that can be used to help break some simple forms of encryption is frequency analysis. This analysis examines the encrypted text to determine which characters are most common. Then it tries to map the most common letters in English, such as E and T, to the most commonly occurring characters in the encrypted text.\n",
    "\n",
    "Write a program that initiates this process by determining and displaying the frequencies of all letters in a file. Ignore spaces, punctuation marks, and numbers as you perform this analysis. Your program should be case insensitive, treating a and A as equivalent. The user will provide the file name as a command line parameter. Your program should display a meaningful error message if the user provides the wrong number of command line parameters, or if the program is unable to open the file indicated by the user."
   ]
  },
  {
   "cell_type": "code",
   "execution_count": null,
   "id": "86bde7f6",
   "metadata": {},
   "outputs": [],
   "source": [
    "import sys\n",
    "letters = []\n",
    "\n",
    "if len(sys.argv) != 2:\n",
    "    print(\"You should enter one file name to be read: \")\n",
    "    quit()\n",
    "\n",
    "try:\n",
    "    with open(sys.argv[1], \"r\") as file:\n",
    "        words = file.read().split()\n",
    "        letters = [letter.lower() for word in words for letter in word if letter.isalpha()]\n",
    "except IOError:\n",
    "    print(\"Could not open file\")\n",
    "    exit()\n",
    "\n",
    "com_char = {}\n",
    "for letter in letters:\n",
    "    if letter in com_char:\n",
    "        com_char[letter] += 1\n",
    "    else:\n",
    "        com_char[letter] = 1\n",
    "\n",
    "for key, value in com_char.items():\n",
    "    print(f\"{key}: {value}\")"
   ]
  },
  {
   "cell_type": "markdown",
   "id": "5c97c8f2",
   "metadata": {},
   "source": [
    "### Exercise 147: Words that Occur Most\n",
    "(37 Lines)\n",
    "Write a program that displays the word (or words) that occur most frequently in a file. Your program should begin by reading the name of the file from the user. Then it should find the word(s) by splitting each line in the file at each space. Finally, any leading or trailing punctuation marks should be removed from each word. In addition, your program should ignore capitalization. As a result, apple, apple!, Apple and ApPlE should all be treated as the same word. You will probably find your solution to Exercise 111 helpful when completing this problem."
   ]
  },
  {
   "cell_type": "code",
   "execution_count": null,
   "id": "e9b3ad08",
   "metadata": {},
   "outputs": [],
   "source": [
    "words = []\n",
    "com_char = {}\n",
    "\n",
    "def only_words(line: str):\n",
    "    lst = [line]\n",
    "    punc = \",.?/;:! \"\n",
    "    new_lst = []\n",
    "    for text in lst:\n",
    "        for p in punc:\n",
    "            text = text.replace(p, \" \")\n",
    "        new_lst.extend(text.split())\n",
    "\n",
    "    return new_lst\n",
    "\n",
    "def main():\n",
    "    filename = input(\"Enter your File name: \")\n",
    "    try:\n",
    "        with open(filename, \"r\") as inf:\n",
    "            line = inf.readline()\n",
    "            while line:\n",
    "                words = only_words(line)\n",
    "                words.append(words)\n",
    "                line = inf.readline()\n",
    "    except IOError:\n",
    "        print(\"Could not open file\")\n",
    "        exit()\n",
    "\n",
    "    for word in words:\n",
    "        if str(word) in com_char:\n",
    "            com_char[word] += 1\n",
    "        else:\n",
    "            com_char[word] = 1\n",
    "\n",
    "    for key, value in com_char.items():\n",
    "        if value == max(value):\n",
    "            print(f\"The word {key} appeared: {value} times\")\n",
    "            \n",
    "if __name__ == \"__main__\":\n",
    "    main()"
   ]
  },
  {
   "cell_type": "markdown",
   "id": "8bc23de6",
   "metadata": {},
   "source": [
    "### Exercise 148: Sum a List of Numbers\n",
    "(Solved—26 Lines)\n",
    "Create a program that sums all of the numbers entered by the user while ignoring any lines entered by the user that are not valid numbers. Your program should display the current sum after each number is entered. It should display an appropriate error message after any invalid input, and then continue to sum any additional numbers entered by the user. Your program should exit when the user enters a blank line. Ensure that your program works correctly for both integers and floating point numbers.\n",
    "Hint: This exercise requires you to use exceptions without using files."
   ]
  },
  {
   "cell_type": "code",
   "execution_count": null,
   "id": "2f6ab0b7",
   "metadata": {},
   "outputs": [],
   "source": [
    "line = input(\"Enter numbers: \")\n",
    "total = 0\n",
    "\n",
    "while line != \"\":\n",
    "    try:\n",
    "        num = float(line)\n",
    "        total = total + num\n",
    "        print(f\"Your Current Total is: {total}\")        \n",
    "    except ValueError:\n",
    "         print(f\"That was not a number\")\n",
    "        \n",
    "    line = input(\"Enter numbers: \")\n",
    "print(f\"Your Grand Total is: {total}\")"
   ]
  },
  {
   "cell_type": "markdown",
   "id": "e0c21108",
   "metadata": {},
   "source": [
    "### Exercise 149: Both Letter Grades and Grade Points\n",
    "(106 Lines)\n",
    "Write a program that converts from letter grades to grade points and vice-versa. Your program will convert multiple values entered by the user, with one value entered on each line. Begin by attempting to convert each value entered by the user from a number of grade points to a letter grade. If an exception occurs during the attempt then your program should attempt to convert the value from a letter grade to a number of grade points. If both conversions fail then your program should provide a message indicating that the supplied input is invalid. Design your program so that it continues performing conversions until the user enters a blank line. Your solutions to Exercises 51 and 52 may be helpful when completing this exercise."
   ]
  },
  {
   "cell_type": "code",
   "execution_count": null,
   "id": "48ac23d4",
   "metadata": {},
   "outputs": [],
   "source": [
    "def points_to_letters(grade_points: float):\n",
    "    \n",
    "    if 5.0 >= grade_points >= 4.5:\n",
    "        grade = \"A+\"\n",
    "    elif 4.5 > grade_points >= 4.0:\n",
    "         grade = \"A\"\n",
    "    elif 4.0 > grade_points >= 3.7:\n",
    "         grade = \"A-\"\n",
    "    elif 3.7 > grade_points >= 3.3:\n",
    "         grade = \"B\"\n",
    "    elif 3.3 > grade_points >= 3.0:\n",
    "         grade = \"B+\"\n",
    "    elif 3.0 > grade_points >= 2.7:\n",
    "         grade = \"B-\"\n",
    "    elif 2.7 > grade_points >= 2.3:\n",
    "         grade = \"C+\"\n",
    "    elif 2.3 > grade_points >= 2.0:\n",
    "         grade = \"C\"\n",
    "    elif 2.0 > grade_points >= 1.7:\n",
    "         grade = \"C-\"\n",
    "    elif 1.7 > grade_points >= 1.3:\n",
    "         grade = \"D+\"\n",
    "    elif 1.3 > grade_points >= 1.0:\n",
    "         grade = \"D\"\n",
    "    elif grade_points < 1.0:\n",
    "         grade = \"F\"\n",
    "\n",
    "    return grade\n",
    "    \n",
    "def letters_to_points(grade: str):\n",
    "      \n",
    "    if grade == \"A+\":\n",
    "        grade_points = 4.5\n",
    "    elif grade == \"A\":\n",
    "        grade_points = 4.0\n",
    "    elif grade == \"A-\":\n",
    "        grade_points = 3.7\n",
    "    elif grade == \"B+\":\n",
    "        grade_points = 3.3\n",
    "    elif grade == \"B\":\n",
    "        grade_points = 3.0\n",
    "    elif grade == \"B-\":\n",
    "        grade_points = 2.7\n",
    "    elif grade == \"C+\":\n",
    "        grade_points = 2.3\n",
    "    elif grade == \"C\":\n",
    "        grade_points = 2.0\n",
    "    elif grade == \"C-\":\n",
    "        grade_points = 1.7\n",
    "    elif grade == \"D+\":\n",
    "        grade_points = 1.3\n",
    "    elif grade == \"D\":\n",
    "        grade_points = 1.0\n",
    "    elif grade == \"F\":\n",
    "        grade_points = 0.0\n",
    "\n",
    "    return grade_points\n",
    "\n",
    "def main():\n",
    "    points = input(\"Enter Here: \")\n",
    "    points = points.upper()\n",
    "    while points != \"\":\n",
    "        try:\n",
    "            if points.isdigit():\n",
    "                num = float(points)\n",
    "                print(f\"Your Equivalant Grade is: {points_to_letters(num)}\")    \n",
    "            elif points in [\"A+\", \"A\", \"A-\", \"B+\", \"B\", \"B-\", \"C+\", \"C\", \"C-\", \"D+\", \"D\", \"F\"]:\n",
    "                print(f\"Your Equivalant Grade Point is:{letters_to_points(points)}\")        \n",
    "        except ValueError:\n",
    "            print(\"Invalid Input\")\n",
    "            \n",
    "        points = input(\"Enter Here (Blank to quit): \")\n",
    "               \n",
    "if __name__ == \"__main__\":\n",
    "    main()"
   ]
  },
  {
   "cell_type": "markdown",
   "id": "29118173",
   "metadata": {},
   "source": [
    "### Exercise 150: Remove Comments\n",
    "(Solved—46 Lines)\n",
    "Python uses the # character to mark the beginning of a comment. The comment ends at the end of the line containing the # character. In this exercise, you will create a program that removes all of the comments from a Python source file. Check each line in the file to determine if a # character is present. If it is then your program should remove all of the characters from the # character to the end of the line (we’ll ignore the situation where the comment character occurs inside of a string). Save the modified file using a new name that will be entered by the user. The user will also enter the name of the input file. Ensure that an appropriate error message is displayed if a problem is encountered while accessing the files."
   ]
  },
  {
   "cell_type": "code",
   "execution_count": null,
   "id": "4fc1c2ab",
   "metadata": {},
   "outputs": [],
   "source": [
    "source = input(\"Enter your File name: \")\n",
    "destination = input(\"Enter the new name of File: \")\n",
    "\n",
    "try:\n",
    "    with open(source, \"r\") as inf:\n",
    "        with open(destination, \"w\") as outf:\n",
    "            lines = inf.read()\n",
    "            for line in lines:\n",
    "                for i, ch in enumerate(line):\n",
    "                    if ch == \"#\":\n",
    "                        new_line = line[:i]\n",
    "                        outf.write(new_line)\n",
    "                    else:\n",
    "                        outf.write(line)\n",
    "except IOError:\n",
    "    print(\"Couldn't open/display file.\")\n",
    "    \n",
    "with open(destination, \"r\") as outf:\n",
    "    for line in outf:\n",
    "        print(line)"
   ]
  },
  {
   "cell_type": "markdown",
   "id": "14c252ed",
   "metadata": {},
   "source": [
    "### Exercise 151: Two Word Random Password\n",
    "(Solved—37 Lines)\n",
    "While generating a password by selecting random characters generally gives a relatively secure password, it also generally gives a password that is difficult to memorize. As an alternative, some systems construct a password by taking two English words and concatenating them. While this password isn’t as secure, it is much easier to memorize.\n",
    "\n",
    "Write a program that reads a file containing a list of words, randomly selects two of them, and concatenates them to produce a new password. When producing the password ensure that the total length is between 8 and 10 characters, and that each word used is at least three letters long. Capitalize each word in the password so that the user can easily see where one word ends and the next one begins. Display the password for the user."
   ]
  },
  {
   "cell_type": "code",
   "execution_count": null,
   "id": "b6b92d50",
   "metadata": {},
   "outputs": [],
   "source": []
  },
  {
   "cell_type": "markdown",
   "id": "47ea96ad",
   "metadata": {},
   "source": [
    "### Exercise 152: What’s that Element Again?\n",
    "(59 Lines)\n",
    "Write a program that reads a file containing information about chemical elements and stores it in one or more appropriate data structures. Then your program should read and process input from the user. If the user enters an integer then your program should display the symbol and name of the element with the number of protons entered. If the user enters a string then your program should display the number of protons for the element with that name or symbol. Your program should display an appropriate error message if no element exists for the name, symbol or number of protons entered. Continue to read input from the user until a blank line is entered."
   ]
  },
  {
   "cell_type": "code",
   "execution_count": 27,
   "id": "98aa0eb7",
   "metadata": {},
   "outputs": [
    {
     "name": "stdout",
     "output_type": "stream",
     "text": [
      "Enter element name or no. of proton: Nitrogen\n",
      "Name of element is: Nitrogen, its number of proton is: 14 and symbol is: 14\n",
      "Name of element is: Nitrogen, its number of proton is: N and symbol is: N\n"
     ]
    }
   ],
   "source": [
    "from ast import literal_eval\n",
    "data = input(\"Enter element name or no. of proton: \")\n",
    "file = \"B:\\Python Programming\\Python Workbook Solution/chemical_elements.txt\"\n",
    "try:\n",
    "    with open(file, \"r\") as chele:\n",
    "        lines = chele.read()\n",
    "        lines = dict(literal_eval(lines))\n",
    "        for key, values in lines.items():\n",
    "            for k in values:\n",
    "                if data.isdigit() and int(data) == values[k]:\n",
    "                    print(f\"1Name of element is: {key}, its number of proton is: {values[k]} and symbol is: {values[k]}\")\n",
    "                elif data == key:\n",
    "                    print(f\"Name of element is: {key}, its number of proton is: {values[k]} and symbol is: {values[k]}\")\n",
    "except IOError:\n",
    "    print(\"File can't be read\")"
   ]
  },
  {
   "cell_type": "markdown",
   "id": "0eb47742",
   "metadata": {},
   "source": [
    "### Exercise 153: A Book with No “e” ...\n",
    "(Solved—49 Lines)\n",
    "The novel “Gadsby” is over 50,000 words in length. While 50,000 words isn’t normally remarkable for a novel, it is in this case because none of the words in the book use the letter “e”. This is particularly noteworthy when one considers that “e” is the most common letter in English.\n",
    "\n",
    "Write a program that reads a list of words from a file and determines what proportion of the words use each letter of the alphabet. Display the result for all 26 letters. Include an additional message identifying the letter that is used in the smallest proportion of the words. Your program should ignore any punctuation marks and it should treat uppercase and lowercase letters as equivalent."
   ]
  },
  {
   "cell_type": "code",
   "execution_count": null,
   "id": "cf5e38bc",
   "metadata": {},
   "outputs": [],
   "source": []
  },
  {
   "cell_type": "markdown",
   "id": "82b8efd5",
   "metadata": {},
   "source": [
    "### Exercise 154: Names that Reached Number One\n",
    "(Solved—50 Lines)\n",
    "The baby names data set consists of over 200 files. Each file contains a list of 100 names, along with the number of times each name was used. There are two files for each year: one containing names used for girls and the other containing names used for boys. The data set includes data for every year from 1900 to 2012.\n",
    "\n",
    "Write a program that reads every file in the data set and identifies all of the names that were most popular in at least one year. Your program should output two lists: one containing the most popular names for boys and the other containing the most popular names for girls. Neither of your lists should include any repeated values."
   ]
  },
  {
   "cell_type": "code",
   "execution_count": null,
   "id": "eb5368d2",
   "metadata": {},
   "outputs": [],
   "source": []
  },
  {
   "cell_type": "markdown",
   "id": "43d31dcf",
   "metadata": {},
   "source": [
    "### Exercise 155: Gender Neutral Names\n",
    "(56 Lines)\n",
    "Some names, like Ben and Jonathan, are normally only used for boys while names like Rebbecca and Flora are normally only used for girls. Other names, like Chris and Alex, may be used for both boys and girls.\n",
    "\n",
    "Write a program that determines and displays all of the baby names that were used for both boys and girls in a year specified by the user. Your program should generate an appropriate message if there were no gender neutral names in the selected year. Display an appropriate error message if you do not have data for the year requested by the user. Additional details about the baby names data set are included in Exercise 154."
   ]
  },
  {
   "cell_type": "code",
   "execution_count": null,
   "id": "957253af",
   "metadata": {},
   "outputs": [],
   "source": []
  },
  {
   "cell_type": "markdown",
   "id": "b332d8cb",
   "metadata": {},
   "source": [
    "### Exercise 156: Most Births in a given Time Period\n",
    "(76 Lines)\n",
    "Write a program that uses the baby names data set described in Exercise 154 to determine which names were used most often within a time period. Have the user supply the first and last years of the range to analyze. Display the boy’s name and the girl’s name given to the most children during the indicated years."
   ]
  },
  {
   "cell_type": "code",
   "execution_count": null,
   "id": "ce85fbbd",
   "metadata": {},
   "outputs": [],
   "source": []
  },
  {
   "cell_type": "markdown",
   "id": "136261d1",
   "metadata": {},
   "source": [
    "### Exercise 157: Distinct Names\n",
    "(41 Lines)\n",
    "In this exercise, you will create a program that reads every file in the baby names data set described in Exercise 154. As your program reads the files, it should keep track of each name used for a boy and each name used for a girl. Your program should output two lists. One list will contain all of the names that have been used for girls. The other list will contain all of the names that have been used for boys. Neither of your lists should contain any repeated values."
   ]
  },
  {
   "cell_type": "code",
   "execution_count": null,
   "id": "99f9d0da",
   "metadata": {},
   "outputs": [],
   "source": []
  },
  {
   "cell_type": "markdown",
   "id": "eae35d0e",
   "metadata": {},
   "source": [
    "### Exercise 158: Spell Checker\n",
    "(Solved—51 Lines)\n",
    "A spell checker can be a helpful tool for people who struggle to spell words correctly. In this exercise, you will write a program that reads a file and displays all of the words in it that are misspelled. Misspelled words will be identified by checking each word in the file against a list of known words. Any words in the user’s file that do not appear in the list of known words will be reported as spelling mistakes.\n",
    "\n",
    "The user will provide the name of the file to check for spelling mistakes as a command line parameter. Your program should display an appropriate error message if the command line parameter is missing. An error message should also be displayed if your program is unable to open the user’s file. Use your solution to Exercise 111 when creating your solution to this exercise so that words followed by a comma, period or other punctuation mark are not reported as spelling mistakes. Ignore the capitalization of the words when checking their spelling.\n",
    "\n",
    "Hint: While you could load all of the English words from the words data set into a list, searching a list is slow if you use Python’s in operator. It is much faster to check if a key is present in a dictionary, or if a value is present in a set. If you use a dictionary, the words will be the keys. The values can be the integer 0 (or any other value) because the values will never be used."
   ]
  },
  {
   "cell_type": "code",
   "execution_count": null,
   "id": "114994e4",
   "metadata": {},
   "outputs": [],
   "source": []
  },
  {
   "cell_type": "markdown",
   "id": "d48ca739",
   "metadata": {},
   "source": [
    "### Exercise 159: Repeated Words\n",
    "(61 Lines)\n",
    "Spelling mistakes are only one of many different kinds of errors that might appear in a written work. Another error that is common for some writers is a repeated word. For example, an author might inadvertently duplicate a word, as shown in the following sentence:\n",
    "\n",
    "    At least one value must be entered\n",
    "    entered in order to compute the average.\n",
    "\n",
    "Some word processors will detect this error and identify it when a spelling or grammar check is performed.\n",
    "\n",
    "In this exercise you will write a program that detects repeated words in a text file. When a repeated word is found your program should display a message that contains the line number and the repeated word. Ensure that your program correctly handles the case where the same word appears at the end of one line and the beginning of the following line, as shown in the previous example. The name of the file to examine will be provided as the program’s only command line parameter. Display an appropriate error message if the user fails to provide a command line parameter, or if an error occurs while processing the file."
   ]
  },
  {
   "cell_type": "code",
   "execution_count": null,
   "id": "f52a5bae",
   "metadata": {},
   "outputs": [],
   "source": []
  },
  {
   "cell_type": "markdown",
   "id": "56563032",
   "metadata": {},
   "source": [
    "### Exercise 160: Redacting Text in a File\n",
    "(Solved—49 Lines)\n",
    "Sensitive information is often removed, or redacted, from documents before they are released to the public. When the documents are released it is common for the redacted text to be replaced with black bars.\n",
    "\n",
    "In this exercise you will write a program that redacts all occurrences of sensitive words in a text file by replacing them with asterisks. Your program should redact sensitive words wherever they occur, even if they occur in the middle of another word. The list of sensitive words will be provided in a separate text file. Save the redacted version of the original text in a new file. The names of the original text file, sensitive words file, and redacted file will all be provided by the user.\n",
    "\n",
    "You may find the replace method for strings helpful when completing this exercise. Information about the replace method can either be found in your textbook or on the internet.\n",
    "\n",
    "For an added challenge, extend your program so that it redacts words in a case insensitive manner. For example, if exam appears in the list of sensitive words then redact exam, Exam, ExaM and EXAM, among other possible capitalizations."
   ]
  },
  {
   "cell_type": "code",
   "execution_count": null,
   "id": "36bc686a",
   "metadata": {},
   "outputs": [],
   "source": []
  },
  {
   "cell_type": "markdown",
   "id": "128bff25",
   "metadata": {},
   "source": [
    "### Exercise 161: Missing Comments\n",
    "(Solved—44 Lines)\n",
    "When one writes a function, it is generally a good idea to include a comment that outlines the function’s purpose, its parameters and its return value. However, sometimes comments are forgotten, or left out by well-intentioned programmers that plan to write them later but then never get around to it.\n",
    "\n",
    "Create a python program that reads one or more Python source files and identifies functions that are not immediately preceded by a comment. For the purposes of this exercise, assume that any line that begins with def, followed by a space, is the beginning of a function definition. Assume that the comment character, #, will be the first character on the previous line when the function has a comment. Display the names of all of the functions that are missing comments, along with the file name and line number where the function definition is located.\n",
    "\n",
    "The user will provide the names of one or more Python files as command line parameters. If your program encounters a file that doesn’t exist or can’t be opened then it should display an appropriate error message before moving on and processing the remaining files.\n"
   ]
  },
  {
   "cell_type": "code",
   "execution_count": null,
   "id": "19c4ecb4",
   "metadata": {},
   "outputs": [],
   "source": []
  },
  {
   "cell_type": "markdown",
   "id": "85a07c7e",
   "metadata": {},
   "source": [
    "### Exercise 162: Consistent Line Lengths\n",
    "(45 Lines)\n",
    "While 80 characters is a common width for a terminal window, some terminals are narrow or wider. This can present challenges when displaying documents containing paragraphs of text. The lines might be too long and wrap, making them difficult to read, or they might be too short and fail to make use of the available space.\n",
    "Write a program that opens a file and displays it so that each line is filled as full as possible. If you read a line that is too long then your program should break it up into words and add words to the current line until it is full. Then your program should start a new line and display the remaining words. Similarly, if you read a line that is too short then you will need to use words from the next line of the file to finish filling the current line of output. For example, consider a file containing the following lines from “Alice’s Adventures in Wonderland”:\n",
    "\n",
    "    Alice was\n",
    "    beginning to get very tired of sitting by her\n",
    "    sister\n",
    "    on the bank, and of having nothing to do: once\n",
    "    or twice she had peeped into the book her sister\n",
    "    was reading, but it had\n",
    "    no\n",
    "    pictures or conversations in it,\"and what is\n",
    "    the use of a book,\" thought Alice, \"without\n",
    "    pictures or conversations?\"\n",
    "    \n",
    "When formatted for a line length of 50 characters, it should be displayed as:\n",
    "\n",
    "    Alice was beginning to get very tired of sitting\n",
    "    by her sister on the bank, and of having nothing\n",
    "    to do: once or twice she had peeped into the book\n",
    "    her sister was reading, but it had no pictures or\n",
    "    conversations in it, \"and what is the use of a\n",
    "    book,\" thought Alice, \"without pictures or\n",
    "    conversations?\"\n",
    "\n",
    "Ensure that your program works correctly for files containing multiple paragraphs of text. You can detect the end of one paragraph and the beginning of the next by looking for lines that are empty once the end of line marker has been removed. You may perform error checking if you want to, but it is not required for this exercise.\n",
    "\n",
    "Hint: Use a constant to represent the maximum line length. This will make it easier to update the program when the window size changes."
   ]
  },
  {
   "cell_type": "code",
   "execution_count": null,
   "id": "1e251dcd",
   "metadata": {},
   "outputs": [],
   "source": []
  },
  {
   "cell_type": "markdown",
   "id": "48abe4a3",
   "metadata": {},
   "source": [
    "### Exercise 163: Words with Six Vowels in Order\n",
    "(56 Lines)\n",
    "There is at least one word in the English language that contains each of the vowels  $$a$$ ,  $$e$$ ,  $$i$$ ,  $$o$$ ,  $$u$$  and  $$y$$  exactly once and in order. \n",
    "Write a program that searches a file containing a list of words and displays all of the words that meet this constraint. The user will provide the name of the file that will be searched. Display an appropriate error message and exit the program if the user provides an invalid file name or if something else goes wrong while searching for words with six vowels in order."
   ]
  },
  {
   "cell_type": "code",
   "execution_count": null,
   "id": "2a02b0d2",
   "metadata": {},
   "outputs": [],
   "source": []
  }
 ],
 "metadata": {
  "kernelspec": {
   "display_name": "Python 3 (ipykernel)",
   "language": "python",
   "name": "python3"
  },
  "language_info": {
   "codemirror_mode": {
    "name": "ipython",
    "version": 3
   },
   "file_extension": ".py",
   "mimetype": "text/x-python",
   "name": "python",
   "nbconvert_exporter": "python",
   "pygments_lexer": "ipython3",
   "version": "3.9.16"
  }
 },
 "nbformat": 4,
 "nbformat_minor": 5
}
