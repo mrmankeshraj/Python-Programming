{
 "cells": [
  {
   "cell_type": "markdown",
   "id": "d58e6c02",
   "metadata": {},
   "source": [
    "### Exercise 128: Reverse Lookup\n",
    "(Solved—40 Lines)\n",
    "Write a function named reverseLookup that finds all of the keys in a dictionary that map to a specific value. The function will take the dictionary and the value to search for as its only parameters. It will return a (possibly empty) list of keys from the dictionary that map to the provided value.\n",
    "\n",
    "Include a main program that demonstrates the reverseLookup function as part of your solution to this exercise. Your program should create a dictionary and then show that the reverseLookup function works correctly when it returns multiple keys, a single key, and no keys. Ensure that your main program only runs when the file containing your solution to this exercise has not been imported into another program."
   ]
  },
  {
   "cell_type": "code",
   "execution_count": null,
   "id": "e44e1e01",
   "metadata": {
    "scrolled": true
   },
   "outputs": [],
   "source": [
    "def reverse_lookup(data:dict, value):\n",
    "    keys = []\n",
    "    for key in data:\n",
    "        if data[key] == value:\n",
    "            keys.append(key)\n",
    "    return keys\n",
    "\n",
    "def main():\n",
    "    data = {\"1\":\"me\", \"2\":\"me\", \"3\":\"from\", \"4\":\"run\", \"5\":\"go\"}\n",
    "    value = input(\"Enter the value you want to search: \")\n",
    "    print(f\"The associated keys are (If any) :{reverse_lookup(data, value)}\")\n",
    "    \n",
    "if __name__ == \"__main__\":\n",
    "    main()"
   ]
  },
  {
   "cell_type": "markdown",
   "id": "a4389ada",
   "metadata": {},
   "source": [
    "### Exercise 129: Two Dice Simulation\n",
    "(Solved—42 Lines)\n",
    "In this exercise you will simulate 1,000 rolls of two dice. Begin by writing a function that simulates rolling a pair of six-sided dice. Your function will not take any parameters. It will return the total that was rolled on two dice as its only result.\n",
    "\n",
    "Write a main program that uses your function to simulate rolling two six-sided dice 1,000 times. As your program runs, it should count the number of times that each total occurs. Then it should display a table that summarizes this data. Express the frequency for each total as a percentage of the total number of rolls. Your program should also display the percentage expected by probability theory for each total. Sample output is shown below.\n",
    "\n",
    "    TOTAL        SIMULATED PERCENT     EXPECTED PERCENT\n",
    "     2                2.90                   2.78\n",
    "     3                6.90                   5.56\n",
    "     4                9.40                   8.33\n",
    "     5               11.90                  11.11\n",
    "     6               14.20                  13.89\n",
    "     7               14.20                  16.67\n",
    "     8               15.00                  13.89\n",
    "     9               10.50                  11.11\n",
    "     10               7.90                   8.83\n",
    "     11               4.50                   5.56\n",
    "     12               2.60                   2.78"
   ]
  },
  {
   "cell_type": "code",
   "execution_count": null,
   "id": "f6be5ffa",
   "metadata": {},
   "outputs": [],
   "source": [
    "from random import randrange\n",
    "\n",
    "NUM_RUNS = 1000\n",
    "D_MAX = 6 \n",
    "\n",
    "def two_dice():\n",
    "    d1 = randrange(1, D_MAX + 1)\n",
    "    d2 = randrange(1, D_MAX + 1)\n",
    "    \n",
    "    return d1+d2\n",
    "\n",
    "def main():\n",
    "    expected = {2: 1/36, 3: 2/36, 4: 3/36, 5: 4/36, \\\n",
    "                6: 5/36, 7: 6/36, 8: 5/36, 9: 4/36, \\\n",
    "                10: 3/36, 11: 2/36, 12: 1/36}\n",
    "    \n",
    "    counts = {2: 0, 3: 0, 4: 0, 5: 0, 6: 0, 7: 0, \\\n",
    "              8: 0, 9: 0, 10: 0, 11: 0, 12: 0}\n",
    "\n",
    "    for i in range(NUM_RUNS):\n",
    "        t = two_dice()\n",
    "        counts[t] = counts[t] + 1\n",
    "        \n",
    "    print(\"Total    Simulated     Expected\")\n",
    "    print(\"           Percent      Percent\")\n",
    "    for i in sorted(counts.keys()):\n",
    "        print(f\"{i}          {counts[i] / NUM_RUNS * 100:.2f}         {expected[i] * 100:.2f}\")\n",
    "\n",
    "if __name__ == \"__main__\":\n",
    "    main()"
   ]
  },
  {
   "cell_type": "markdown",
   "id": "69581383",
   "metadata": {},
   "source": [
    "### Exercise 130: Text Messaging\n",
    "(21 Lines)\n",
    "On some basic cell phones, text messages can be sent using the numeric keypad. Because each key has multiple letters associated with it, multiple key presses are needed for most letters. Pressing the number once generates the first letter on the key. Pressing the number 2, 3, 4 or 5 times generates the second, third, fourth or fifth character listed for that key.\n",
    "\n",
    "    Key Symbols\n",
    "    1     . , ? ! :\n",
    "    2     A B C\n",
    "    3     D E F\n",
    "    4     G H I\n",
    "    5     J K L\n",
    "    6     M N O\n",
    "    7     P Q R S\n",
    "    8     T U V\n",
    "    9     W X Y Z\n",
    "    0     space\n",
    "    \n",
    "Write a program that displays the key presses that must be made to enter a text message read from the user. Construct a dictionary that maps from each letter or symbol to the key presses. Then use the dictionary to generate and display the presses for the user’s message. For example, if the user enters Hello, World! then your program should output 4433555555666110966677755531111. Ensure that your program handles both uppercase and lowercase letters. Ignore any characters that aren’t listed in the table above such as semicolons and brackets."
   ]
  },
  {
   "cell_type": "code",
   "execution_count": null,
   "id": "7be0e44c",
   "metadata": {},
   "outputs": [],
   "source": [
    "def key_press(phrase:str):\n",
    "    \n",
    "    text = {1: [\".\", \",\", \"?\", \"!\", \":\"], 2: [\"A\", \"B\", \"C\"], 3: [\"D\", \"E\", \"F\"], 4: [\"G\", \"H\", \"I\"], \\\n",
    "           5: [\"J\", \"K\", \"L\"], 6: [\"M\", \"N\", \"O\"], 7: [\"P\", \"Q\", \"R\", \"S\"], 8: [\"T\", \"U\", \"V\"], \\\n",
    "           9: [\"W\", \"X\", \"Y\", \"Z\"], 0: [\" \"]}\n",
    "    \n",
    "    for i in phrase:\n",
    "        for key, value in text.items():\n",
    "            if i in value:\n",
    "                for j in range(value.index(i) + 1):\n",
    "                    print(key, end=\"\")\n",
    "                \n",
    "def main():\n",
    "    phrase = input(\"Enter your phrase:  \").upper()\n",
    "    key_press(phrase)\n",
    "    \n",
    "if __name__ == \"__main__\":\n",
    "    main()"
   ]
  },
  {
   "cell_type": "markdown",
   "id": "c14910c6",
   "metadata": {},
   "source": [
    "### Exercise 131: Morse Code\n",
    "(15 Lines)\n",
    "Morse code is an encoding scheme that uses dashes and dots to represent numbers and letters. In this exercise, you will write a program that uses a dictionary to store the mapping from letters and numbers to Morse code. Use a period to represent a dot, and a hyphen to represent a dash. The mapping from letters and numbers to dashes and dots is shown in Table 6.1.\n",
    "\n",
    "    Table 6.1 Morse Code Letters and Numbers\n",
    "    Letter Code  Letter Code      Letter Code     Number Code\n",
    "    A      .-      J     .- - -     S     ...         1    .- - - -\n",
    "    B      -...    K     -.-        T     -           2    ..- - -\n",
    "    C      -.-.    L     .-..       U     ..-         3    ...- -\n",
    "    D      -..     M     - -        V     ...-        4    ....-\n",
    "    E      .       N     -.         W     .- -        5    .....\n",
    "    F      ..-.    O     - - -      X     -..-        6    -.... \n",
    "    G      - -.    P     .- -.      Y     -.- -       7    - -...\n",
    "    H      ....    Q     - -.-      Z     - -..       8    - - -..\n",
    "    I      ..      R     .-.        0     - - - - -   9    - - - -.\n",
    "\n",
    "Your program should read a message from the user. Then it should translate each letter and number in the message to Morse code, leaving a space between each sequence of dashes and dots. Your program should ignore any characters that are not letters or numbers. The Morse code for Hello, World! is shown below:\n",
    "\n",
    " $$ \\mathtt ....\\;{.}\\;{.}-..\\;{.-}..\\;{-}{-}{-}\\;.{-}{-}\\;{-}{-}{-}\\;.-.\\;.-..\\;-.. $$ \n",
    "\n",
    "Morse code was originally developed in the nineteenth century for use over telegraph wires. It is still used today, over 160 years after it was first created."
   ]
  },
  {
   "cell_type": "code",
   "execution_count": 56,
   "id": "22f2348e",
   "metadata": {},
   "outputs": [
    {
     "name": "stdout",
     "output_type": "stream",
     "text": [
      "Enter your phrase:  Hello, World!\n",
      ".... . .-.. .-.. - - - .- - - - - .-. .-.. -.. "
     ]
    }
   ],
   "source": [
    "def to_morse_code(phrase:str):\n",
    "    code = {\"A\": \".-\",   \"J\": \".- - -\", \"S\": \"...\",      \"1\": \".- - - -\", \\\n",
    "            \"B\": \"-...\", \"K\": \"-.-\",    \"T\": \"-\",        \"2\": \"..- - -\",  \\\n",
    "            \"C\": \"-.-.\", \"L\": \".-..\",   \"U\": \"..-\",      \"3\": \"...- -\",   \\\n",
    "            \"D\": \"-..\",  \"M\": \"- -\",    \"V\": \"...-\",     \"4\": \"....-\",    \\\n",
    "            \"E\": \".\",    \"N\": \"-.\",     \"W\": \".- -\",     \"5\": \".....\",    \\\n",
    "            \"F\": \"..-.\", \"O\": \"- - -\",  \"X\": \"-..-\",     \"6\": \"-....\" ,   \\\n",
    "            \"G\": \"- -.\", \"P\": \".- -.\",  \"Y\": \"-.- -\",    \"7\": \"- -...\",   \\\n",
    "            \"H\": \"....\", \"Q\": \"- -.-\",  \"Z\": \"- -..\",    \"8\": \"- - -..\",  \\\n",
    "            \"I\": \"..\"  , \"R\": \".-.\",    \"0\": \"- - - - -\",\"9\": \"- - - -.\"}\n",
    "    \n",
    "    for i in phrase:\n",
    "        if i in code:\n",
    "            print(code[i], end=\" \")\n",
    "            \n",
    "def main():\n",
    "    phrase = input(\"Enter your phrase:  \").upper()\n",
    "    to_morse_code(phrase)\n",
    "    \n",
    "if __name__ == \"__main__\":\n",
    "    main()"
   ]
  },
  {
   "cell_type": "markdown",
   "id": "c4eb9ef8",
   "metadata": {},
   "source": [
    "### Exercise 132: Postal Codes\n",
    "(24 Lines)\n",
    "In a Canadian postal code, the first, third and fifth characters are letters while the second, fourth and sixth characters are numbers. The province can be determined from the first character of a postal code, as shown in the following table. No valid postal codes currently begin with D, F, I, O, Q, U, W, or Z\n",
    "\n",
    "    Province         First character(s)\n",
    "    Newfoundland             A\n",
    "    Nova Scotia              B\n",
    "    Prince Edward Island     C\n",
    "    New Brunswick            E\n",
    "    Quebec              G, H and J\n",
    "    Ontario           K, L, M, N and P\n",
    "    Manitoba                R\n",
    "    Saskatchewan            S\n",
    "    Alberta                 T\n",
    "    British Columbia        V\n",
    "    Nunavut                 X\n",
    "    Northwest Territories   X\n",
    "    Yukon                   Y\n",
    "\n",
    "The second character in a postal code identifies whether the address is rural or urban. If that character is a 0 then the address is rural. Otherwise it is urban.\n",
    "\n",
    "Create a program that reads a postal code from the user and displays the province associated with it, along with whether the address is urban or rural. For example, if the user enters T2N 1N4 then your program should indicate that the postal code is for an urban address in Alberta. If the user enters X0A 1B2 then your program should indicate that the postal code is for a rural address in Nunavut or Northwest Territories. Use a dictionary to map from the first character of the postal code to the province name. Display a meaningful error message if the postal code begins with an invalid character."
   ]
  },
  {
   "cell_type": "code",
   "execution_count": 84,
   "id": "71e151ea",
   "metadata": {},
   "outputs": [
    {
     "name": "stdout",
     "output_type": "stream",
     "text": [
      "Enter your Postal Code: X0A 1B2\n",
      "This Postal Code belongs to Rural Address from Nunavut OR Northwest Territories\n",
      "\n"
     ]
    }
   ],
   "source": [
    "def postal_codes(code:str):\n",
    "    postal = {\"A\": \"Newfoundland\",         \"J\": \"Quebec\",          \"S\": \"Saskatchewan\", \\\n",
    "              \"B\": \"Nova Scotia\",          \"K\": \"Ontario\",         \"T\": \"Alberta\",      \\\n",
    "              \"C\": \"Prince Edward Island\", \"L\": \"Ontario\",         \"Y\": \"Yukon\",        \\\n",
    "              \"M\": \"Ontario\",              \"V\": \"British Columbia\",\"R\": \"Manitoba\",     \\\n",
    "              \"E\": \"New Brunswick\",        \"N\": \"Ontario\",         \"P\": \"Ontario\",      \\\n",
    "              \"G\": \"Quebec\",               \"X\": \"Nunavut OR Northwest Territories\",     \\\n",
    "              \"H\": \"Quebec\"}                                         \n",
    "              \n",
    "    for i in postal:\n",
    "        if i == code[0]:\n",
    "            if code[1] == \"0\":\n",
    "                print(f\"This Postal Code belongs to Rural Address from {postal[i]}\")\n",
    "            elif code[1] in [\"1\", \"2\", \"3\", \"4\", \"5\", \"6\", \"7\", \"8\", \"9\"] :\n",
    "                print(f\"This Postal Code belongs to Urban Address from {postal[i]}\")\n",
    "            else:\n",
    "                return \"This Postal Code is Invalid\"\n",
    "\n",
    "def main():\n",
    "    code = input(\"Enter your Postal Code: \").upper()\n",
    "    print(postal_codes(code))\n",
    "    \n",
    "if __name__ == \"__main__\":\n",
    "    main()"
   ]
  },
  {
   "cell_type": "markdown",
   "id": "6b2d0393",
   "metadata": {},
   "source": [
    "### Exercise 133: Write Out Numbers in English\n",
    "(65 Lines)\n",
    "While the popularity of cheques as a payment method has diminished in recent years, some companies still issue them to pay employees or vendors. The amount being paid normally appears on a cheque twice, with one occurrence written using digits, and the other occurrence written using English words. Repeating the amount in two different forms makes it much more difficult for an unscrupulous employee or vendor to modify the amount on the cheque before depositing it.\n",
    "\n",
    "In this exercise, your task is to create a function that takes an integer between 0 and 999 as its only parameter, and returns a string containing the English words for that number. For example, if the parameter to the function is 142 then your function should return “one hundred forty two”. Use one or more dictionaries to implement your solution rather than large if/elif/else constructs. Include a main program that reads an integer from the user and displays its value in English words."
   ]
  },
  {
   "cell_type": "code",
   "execution_count": null,
   "id": "ac0875e2",
   "metadata": {},
   "outputs": [],
   "source": []
  },
  {
   "cell_type": "markdown",
   "id": "f7576708",
   "metadata": {},
   "source": [
    "### Exercise 134: Unique Characters\n",
    "(Solved—14 Lines)\n",
    "Create a program that determines and displays the number of unique characters in a string entered by the user. For example, Hello, World! has 10 unique characters while zzz has only one unique character. Use a dictionary or set to solve this problem."
   ]
  },
  {
   "cell_type": "code",
   "execution_count": null,
   "id": "e40163e1",
   "metadata": {},
   "outputs": [],
   "source": []
  },
  {
   "cell_type": "markdown",
   "id": "fa9564ff",
   "metadata": {},
   "source": [
    "### Exercise 135: Anagrams\n",
    "(Solved—39 Lines)\n",
    "Two words are anagrams if they contain all of the same letters, but in a different order. For example, “evil” and “live” are anagrams because each contains one e, one i, one l, and one v. Create a program that reads two strings from the user, determines whether or not they are anagrams, and reports the result."
   ]
  },
  {
   "cell_type": "code",
   "execution_count": null,
   "id": "3e3e377e",
   "metadata": {},
   "outputs": [],
   "source": []
  },
  {
   "cell_type": "markdown",
   "id": "bc9d60c2",
   "metadata": {},
   "source": [
    "### Exercise 136: Anagrams Again\n",
    "(48 Lines)\n",
    "The notion of anagrams can be extended to multiple words. For example, “William Shakespeare” and “I am a weakish speller” are anagrams when capitalization and spacing are ignored.\n",
    "Extend your program from Exercise 135 so that it is able to check if two phrases are anagrams. Your program should ignore capitalization, punctuation marks and spacing when making the determination."
   ]
  },
  {
   "cell_type": "code",
   "execution_count": null,
   "id": "09414222",
   "metadata": {},
   "outputs": [],
   "source": []
  },
  {
   "cell_type": "markdown",
   "id": "68bd47ad",
   "metadata": {},
   "source": [
    "### Exercise 137: Scrabble™ Score\n",
    "(Solved—18 Lines)\n",
    "In the game of Scrabble™, each letter has points associated with it. The total score of a word is the sum of the scores of its letters. More common letters are worth fewer points while less common letters are worth more points. The points associated with each letter are shown below:\n",
    "\n",
    "    One point      A, E, I, L, N, O, R, S, T and U\n",
    "    Two points     D and G\n",
    "    Three points   B, C, M and P\n",
    "    Four points    F, H, V, W and Y\n",
    "    Five points    K\n",
    "    Eight points   J and X\n",
    "    Ten points     Q and Z\n",
    "\n",
    "Write a program that computes and displays the Scrabble™ score for a word. Create a dictionary that maps from letters to point values. Then use the dictionary to compute the score.\n",
    "\n",
    "A Scrabble™ board includes some squares that multiply the value of a letter or the value of an entire word. We will ignore these squares in this exercise."
   ]
  },
  {
   "cell_type": "code",
   "execution_count": null,
   "id": "2aa695f8",
   "metadata": {},
   "outputs": [],
   "source": []
  },
  {
   "cell_type": "markdown",
   "id": "59154fe4",
   "metadata": {},
   "source": [
    "### Exercise 138: Create a Bingo Card\n",
    "(Solved—58 Lines)\n",
    "A Bingo card consists of 5 columns of 5 numbers. The columns are labeled with the letters B, I, N, G and O. There are 15 numbers that can appear under each letter. In particular, the numbers that can appear under the B range from 1 to 15, the numbers that can appear under the I range from 16 to 30, the numbers that can appear under the N range from 31 to 45, and so on.\n",
    "\n",
    "Write a function that creates a random Bingo card and stores it in a dictionary. The keys will be the letters B, I, N, G and O. The values will be the lists of five numbers that appear under each letter. Write a second function that displays the Bingo card with the columns labeled appropriately. Use these functions to write a program that displays a random Bingo card. Ensure that the main program only runs when the file containing your solution has not been imported into another program.\n",
    "\n",
    "You may be aware that Bingo cards often have a “free” space in the middle of the card. We won’t consider the free space in this exercise."
   ]
  },
  {
   "cell_type": "code",
   "execution_count": null,
   "id": "9883a11b",
   "metadata": {},
   "outputs": [],
   "source": []
  },
  {
   "cell_type": "markdown",
   "id": "81a6f395",
   "metadata": {},
   "source": [
    "### Exercise 139: Checking for a Winning Card\n",
    "(102 Lines)\n",
    "A winning Bingo card contains a line of 5 numbers that have all been called. Players normally mark the numbers that have been called by crossing them out or marking them with a Bingo dauber. In our implementation we will mark that a number has been called by replacing it with a 0 in the Bingo card dictionary.\n",
    "\n",
    "Write a function that takes a dictionary representing a Bingo card as its only parameter. If the card contains a line of five zeros (vertical, horizontal or diagonal) then your function should return True, indicating that the card has won. Otherwise the function should return False.\n",
    "\n",
    "Create a main program that demonstrates your function by creating several Bingo cards, displaying them, and indicating whether or not they contain a winning line. You should demonstrate your function with at least one card with a horizontal line, at least one card with a vertical line, at least one card with a diagonal line, and at least one card that has some numbers crossed out but does not contain a winning line. You will probably want to import your solution to Exercise 138 when completing this exercise.\n",
    "\n",
    "Hint: Because there are no negative numbers on a Bingo card, finding a line of 5 zeros is the same problem as finding a line of 5 entries that sum to zero. You may find the summation problem easier to solve."
   ]
  },
  {
   "cell_type": "code",
   "execution_count": null,
   "id": "51cd7690",
   "metadata": {},
   "outputs": [],
   "source": []
  },
  {
   "cell_type": "markdown",
   "id": "778100b9",
   "metadata": {},
   "source": [
    "### Exercise 140: Play Bingo\n",
    "(88 Lines)\n",
    "In this exercise you will write a program that simulates a game of Bingo for a single card. Begin by generating a list of all of the valid Bingo calls (B1 through O75). Once the list has been created you can randomize the order of its elements by calling the shuffle function in the random module. Then your program should consume calls out of the list, crossing out numbers on the card, until the card contains a crossed out line (horizontal, vertical or diagonal). Simulate 1,000 games and report the minimum, maximum and average number of calls that must be made before the card wins. Import your solutions to Exercises 138 and 139 when completing this exercise."
   ]
  },
  {
   "cell_type": "code",
   "execution_count": null,
   "id": "f1660698",
   "metadata": {},
   "outputs": [],
   "source": []
  }
 ],
 "metadata": {
  "kernelspec": {
   "display_name": "Python 3 (ipykernel)",
   "language": "python",
   "name": "python3"
  },
  "language_info": {
   "codemirror_mode": {
    "name": "ipython",
    "version": 3
   },
   "file_extension": ".py",
   "mimetype": "text/x-python",
   "name": "python",
   "nbconvert_exporter": "python",
   "pygments_lexer": "ipython3",
   "version": "3.9.16"
  }
 },
 "nbformat": 4,
 "nbformat_minor": 5
}
