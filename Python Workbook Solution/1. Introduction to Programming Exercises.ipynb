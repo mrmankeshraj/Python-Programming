{
 "cells": [
  {
   "cell_type": "markdown",
   "id": "48873db9",
   "metadata": {},
   "source": [
    "### Exercise 1: Mailing Address\n",
    "(Solved—9 Lines)\n",
    "Create a program that displays your name and complete mailing address formatted in the manner that you would usually see it on the outside of an envelope. Your program does not need to read any input from the user."
   ]
  },
  {
   "cell_type": "code",
   "execution_count": null,
   "id": "454a7259",
   "metadata": {},
   "outputs": [],
   "source": [
    "print(\"Mankesh Raj\")\n",
    "print(\"c/o Sri Chandra Bhushan Prajapati\")\n",
    "print(\"Flat no. 401 \")\n",
    "print(\"RKM Square\")\n",
    "print(\"Phulwari, Danapur \")\n",
    "print(\"Patna, Bihar-801101\")"
   ]
  },
  {
   "cell_type": "markdown",
   "id": "48a9f0d4",
   "metadata": {},
   "source": [
    "### Exercise 2: Hello\n",
    "(9 Lines)\n",
    "Write a program that asks the user to enter his or her name. The program should respond with a message that says hello to the user, using his or her name."
   ]
  },
  {
   "cell_type": "code",
   "execution_count": null,
   "id": "6811392c",
   "metadata": {},
   "outputs": [],
   "source": [
    "name = input(\"Enter your name : \")\n",
    "print(f\"Hello {name}\")"
   ]
  },
  {
   "cell_type": "markdown",
   "id": "b85d4813",
   "metadata": {},
   "source": [
    "### Exercise 3: Area of a Room\n",
    "(Solved—13 Lines)\n",
    "Write a program that asks the user to enter the width and length of a room. Once the values have been read, your program should compute and display the area of the room. The length and the width will be entered as floating point numbers. Include units in your prompt and output message; either feet or meters, depending on which unit you are more comfortable working with."
   ]
  },
  {
   "cell_type": "code",
   "execution_count": null,
   "id": "a733e0fa",
   "metadata": {},
   "outputs": [],
   "source": [
    "length = float(input(\"Enter the length of the Room in meters : \"))\n",
    "width = float(input(\"Enter the width of the Room in meters : \"))\n",
    "area = length * width\n",
    "print(f\"The Area of the Room is {area} sqmeters\")\n"
   ]
  },
  {
   "cell_type": "markdown",
   "id": "d5265b46",
   "metadata": {},
   "source": [
    "### Exercise 4: Area of a Field\n",
    "(Solved—15 Lines)\n",
    "Create a program that reads the length and width of a farmer’s field from the user in feet. Display the area of the field in acres."
   ]
  },
  {
   "cell_type": "code",
   "execution_count": null,
   "id": "9d0169a6",
   "metadata": {},
   "outputs": [],
   "source": [
    "SQFT_PER_ACRE = 43560\n",
    "length = float(input(\"Enter the length of the Room in feets : \"))\n",
    "width = float(input(\"Enter the width of the Room in feets : \"))\n",
    "area = (length * width)/SQFT_PER_ACRE\n",
    "print(f\"The Area of the Room is {area} acres\")"
   ]
  },
  {
   "cell_type": "markdown",
   "id": "ff0872d7",
   "metadata": {},
   "source": [
    "### Exercise 5: Bottle Deposits\n",
    "(Solved—15 Lines)\n",
    "In many jurisdictions a small deposit is added to drink containers to encourage people to recycle them. In one particular jurisdiction, drink containers holding one liter or less have a $$$0.10 deposit, and drink containers holding more than one liter have a $$$0.25 deposit.\n",
    "\n",
    "Write a program that reads the number of containers of each size from the user. Your program should continue by computing and displaying the refund that will be received for returning those containers. Format the output so that it includes a dollar sign and always displays exactly two decimal places."
   ]
  },
  {
   "cell_type": "code",
   "execution_count": null,
   "id": "0b8d27cc",
   "metadata": {},
   "outputs": [],
   "source": [
    "LESS_DEPOSITE = 0.100\n",
    "MORE_DEPOSITE = 0.250\n",
    "\n",
    "less_bottles = int(input(\"Enter the no. of bottles holding less than a litre : \"))\n",
    "more_bottles = int(input(\"Enter the no. of bottles holding more than a litre : \"))\n",
    "refund = (LESS_DEPOSITE*less_bottles) + (MORE_DEPOSITE*more_bottles)\n",
    "\n",
    "print(f\"You are eligible for a refund of : ${refund:.2f} \\nThank You\")"
   ]
  },
  {
   "cell_type": "markdown",
   "id": "1d9afd28",
   "metadata": {},
   "source": [
    "### Exercise 6: Tax and Tip\n",
    "(Solved—17 Lines)\n",
    "The program that you create for this exercise will begin by reading the cost of a meal ordered at a restaurant from the user. Then your program will compute the tax and tip for the meal. Use your local tax rate when computing the amount of tax owing. Compute the tip as 18 percent of the meal amount (without the tax). The output from your program should include the tax amount, the tip amount, and the grand total for the meal including both the tax and the tip. Format the output so that all of the values are displayed using two decimal places."
   ]
  },
  {
   "cell_type": "code",
   "execution_count": null,
   "id": "21578ab9",
   "metadata": {},
   "outputs": [],
   "source": [
    "TAX_RATE = 0.09\n",
    "TIP_RATE = 0.18\n",
    "\n",
    "meal_price = float(input(\"What is the total price of your meal : \"))\n",
    "\n",
    "tax_price = meal_price * TAX_RATE\n",
    "tip_price = meal_price * TIP_RATE\n",
    "total_price = meal_price + (tax_price) + (tip_price)\n",
    "\n",
    "print(f\"Your Tip Amount is ₹{tip_price:.2f},\\nTax Amount is ₹{tax_price:.2f},\\nmaking The Grand Total ₹{total_price:.2f}\")"
   ]
  },
  {
   "cell_type": "markdown",
   "id": "d6f44416",
   "metadata": {},
   "source": [
    "### Exercise 7: Sum of the First n Positive Integers\n",
    "(Solved—12 Lines)\n",
    "Write a program that reads a positive integer, , from the user and then displays the sum of all of the integers from 1 to . The sum of the first  positive integers can be computed using the formula: sum = (n)(n+1)/2\n"
   ]
  },
  {
   "cell_type": "code",
   "execution_count": null,
   "id": "889bb901",
   "metadata": {},
   "outputs": [],
   "source": [
    "n = int(input(\"Enter a positive Integer : \"))\n",
    "sm = (n*(n+1))/2\n",
    "print(f\"The sum of the first {n} positive integer is {sm:.0f}\")"
   ]
  },
  {
   "cell_type": "markdown",
   "id": "b5153095",
   "metadata": {},
   "source": [
    "### Exercise 8: Widgets and Gizmos\n",
    "(15 Lines)\n",
    "An online retailer sells two products: widgets and gizmos. Each widget weighs 75 grams. Each gizmo weighs 112 grams. Write a program that reads the number of widgets and the number of gizmos in an order from the user. Then your program should compute and display the total weight of the order."
   ]
  },
  {
   "cell_type": "code",
   "execution_count": null,
   "id": "1cd8ec97",
   "metadata": {},
   "outputs": [],
   "source": [
    "WIDGETS_WT = 75\n",
    "GIZMOS_WT = 112\n",
    "\n",
    "no_of_widgets = int(input(\"Enter the no. of Widgets to be ordered : \"))\n",
    "no_of_gizmos = int(input(\"Enter the no. of Gizmos to be ordered : \"))\n",
    "\n",
    "total_wt = (no_of_widgets*WIDGETS_WT) + (no_of_gizmos*GIZMOS_WT)\n",
    "\n",
    "print(f\"Your orders Total Weight is {total_wt} grams\")"
   ]
  },
  {
   "cell_type": "markdown",
   "id": "382069bc",
   "metadata": {},
   "source": [
    "### Exercise 9: Compound Interest\n",
    "(19 Lines)\n",
    "Pretend that you have just opened a new savings account that earns 4 percent interest per year. The interest that you earn is paid at the end of the year, and is added to the balance of the savings account. Write a program that begins by reading the amount of money deposited into the account from the user. Then your program should compute and display the amount in the savings account after 1, 2, and 3 years. Display each amount so that it is rounded to 2 decimal places."
   ]
  },
  {
   "cell_type": "code",
   "execution_count": null,
   "id": "25ec12f1",
   "metadata": {},
   "outputs": [],
   "source": [
    "p = float(input(\"Enter the Amount to be Deposited : \"))\n",
    "r = 0.04\n",
    "\n",
    "ints_fisrt_year = p + (p*r*1)/100\n",
    "ints_sec_year = p + (p*r*2)/100\n",
    "ints_third_year = p + (p*r*3)/100\n",
    "\n",
    "print(f\"\"\"Your Saving account have ₹{p:.2f},\n",
    "Your interest in 1st year would be ₹{ints_fisrt_year:.2f},\n",
    "Your interest in 2and year would be ₹{ints_sec_year:.2f},\n",
    "Your interest in 3rd year would be ₹{ints_third_year:.2f}\"\"\")"
   ]
  },
  {
   "cell_type": "markdown",
   "id": "d322d5ab",
   "metadata": {},
   "source": [
    "### Exercise 10: Arithmetic\n",
    "(Solved—20 Lines)\n",
    "Create a program that reads two integers, a and b, from the user. Your program should compute and display:\n",
    "\n",
    "The sum of a and b\n",
    "\n",
    "The difference when b is subtracted from a\n",
    "\n",
    "The product of a and b\n",
    "\n",
    "The quotient when a is divided by b\n",
    "\n",
    "The remainder when a is divided by b\n",
    "\n",
    "The result of   $$\\log _{10}{a}$$ \n",
    "The result of  $$a^{b}$$ \n",
    "###### Hint: You will probably find the log10 function in the math module helpful for computing the second last item in the list."
   ]
  },
  {
   "cell_type": "code",
   "execution_count": null,
   "id": "3925b6cc",
   "metadata": {},
   "outputs": [],
   "source": [
    "from math import log10\n",
    "a = int(input(\"Enter integer A : \"))\n",
    "b = int(input(\"Enter integer B : \"))\n",
    "\n",
    "sm = a + b\n",
    "sub = a - b\n",
    "mul = a * b\n",
    "quot = a / b\n",
    "rem = a % b\n",
    "log = log10(a)\n",
    "powe = a**b\n",
    "\n",
    "print()\n",
    "print(f\"The sum of A and B is :{sm}\")\n",
    "print(f\"The difference of A and B is :{sub}\")\n",
    "print(f\"The product of A and B is :{mul}\")\n",
    "print(f\"The division of A by B is :{quot:.2f}\")\n",
    "print(f\"The remainder when A divided by B is :{rem}\")\n",
    "print(f\"The log base 10 of A is :{log:.2f}\")\n",
    "print(f\"The value of A to the power B is :{powe}\")"
   ]
  },
  {
   "cell_type": "markdown",
   "id": "ae984afc",
   "metadata": {},
   "source": [
    "### Exercise 11: Fuel Efficiency\n",
    "(13 Lines)\n",
    "In the United States, fuel efficiency for vehicles is normally expressed in miles-per-gallon (MPG). In Canada, fuel efficiency is normally expressed in liters-per-hundred kilometers (L/100 km). Use your research skills to determine how to convert from MPG to L/100 km. Then create a program that reads a value from the user in American units and displays the equivalent fuel efficiency in Canadian units."
   ]
  },
  {
   "cell_type": "code",
   "execution_count": null,
   "id": "64aa87dc",
   "metadata": {},
   "outputs": [],
   "source": [
    "mpg = float(input(\"Enter your fuel efficiency in MPG : \"))\n",
    "\n",
    "KM = 1.609\n",
    "LITRE = 3.785\n",
    "lph = (LITRE*mpg)/(100*KM)\n",
    "\n",
    "print(f\"Your Fuel efficiency in L/100km is {lph:.2f}\")"
   ]
  },
  {
   "cell_type": "markdown",
   "id": "a3c5d09c",
   "metadata": {},
   "source": [
    "### Exercise 12: Distance Between Two Points on Earth\n",
    "(27 Lines)\n",
    "The surface of the Earth is curved, and the distance between degrees of longitude varies with latitude. As a result, finding the distance between two points on the surface of the Earth is more complicated than simply using the Pythagorean theorem.\n",
    "Let  $$(t_1,g_1)$$  and  $$(t_2,g_2)$$  be the latitude and longitude of two points on the Earth’s surface. The distance between these points, following the surface of the Earth, in kilometers is:\n",
    "\n",
    " $$\\mathrm {distance} = 6371.01 \\times \\mathrm {arccos}(\\mathrm {sin}(t_1) \\times \\mathrm {sin}(t_2) + \\mathrm {cos}(t_1) \\times \\mathrm {cos}(t_2) \\times \\mathrm {cos}(g_1 - g_2))$$ \n",
    "\n",
    "The value 6371.01 in the previous equation wasn’t selected at random. It is the average radius of the Earth in kilometers.\n",
    "\n",
    "Create a program that allows the user to enter the latitude and longitude of two points on the Earth in degrees. Your program should display the distance between the points, following the surface of the earth, in kilometers.\n",
    "\n",
    "Hint: Python’s trigonometric functions operate in radians. As a result, you will need to convert the user’s input from degrees to radians before computing the distance with the formula discussed previously. The math module contains a function named radians which converts from degrees to radians."
   ]
  },
  {
   "cell_type": "code",
   "execution_count": null,
   "id": "1488aafa",
   "metadata": {},
   "outputs": [],
   "source": [
    "from math import *\n",
    "import numpy as np\n",
    "\n",
    "deg_t1 = float(input(\"Enter the latitude of point A in degrees : \"))\n",
    "deg_g1 = float(input(\"Enter the longitude of point A in degrees : \"))\n",
    "deg_t2 = float(input(\"Enter the latitude of point B in degrees : \"))\n",
    "deg_g2 = float(input(\"Enter the longitude of point B in degrees : \"))\n",
    "\n",
    "RADIANS = 0.0175\n",
    "\n",
    "t1 = deg_t1 * RADIANS\n",
    "g1 = deg_g1 * RADIANS\n",
    "t2 = deg_t2 * RADIANS\n",
    "g2 = deg_g2 * RADIANS\n",
    "\n",
    "dist = 6371.01 * np.arccos( (sin(t1)*sin(t2) + cos(t1)*cos(t2) ) * cos(g1-g2))\n",
    "\n",
    "print(f\"The Distance between point A and B is {dist:.2f}km\")"
   ]
  },
  {
   "cell_type": "markdown",
   "id": "5203ca82",
   "metadata": {},
   "source": [
    "### Exercise 13: Making Change\n",
    "(Solved—33 Lines)\n",
    "Consider the software that runs on a self-checkout machine. One task that it must be able to perform is to determine how much change to provide when the shopper pays for a purchase with cash.\n",
    "Write a program that begins by reading a number of cents from the user as an integer. Then your program should compute and display the denominations of the coins that should be used to give that amount of change to the shopper. The change should be given using as few coins as possible. Assume that the machine is loaded with pennies, nickels, dimes, quarters, loonies and toonies.\n",
    "A one dollar coin was introduced in Canada in 1987. It is referred to as a loonie because one side of the coin has a loon (a type of bird) on it. The two dollar coin, referred to as a toonie, was introduced 9 years later. It’s name is derived from the combination of the number two and the name of the loonie."
   ]
  },
  {
   "cell_type": "code",
   "execution_count": null,
   "id": "00cfa35f",
   "metadata": {},
   "outputs": [],
   "source": [
    "CENTS_PER_TOONIES = 200\n",
    "CENTS_PER_LOONIES = 100\n",
    "CENTS_PER_QUARTERS = 25\n",
    "CENTS_PER_DIMES = 10\n",
    "CENTS_PER_NICKELS = 5\n",
    "\n",
    "cents = int(input(\"Enter the number of cents: \"))\n",
    "print(f\"{cents // CENTS_PER_TOONIES} Toonies\")\n",
    "cents = cents % CENTS_PER_TOONIES\n",
    "print(f\"{cents // CENTS_PER_LOONIES} Loonies\")\n",
    "cents = cents % CENTS_PER_LOONIES\n",
    "print(f\"{cents // CENTS_PER_QUARTERS} Quarters\")\n",
    "cents = cents % CENTS_PER_QUARTERS\n",
    "print(f\"{cents // CENTS_PER_DIMES} Dimes\")\n",
    "cents = cents % CENTS_PER_DIMES\n",
    "print(f\"{cents // CENTS_PER_NICKELS} Nickels\")\n",
    "cents = cents % CENTS_PER_NICKELS\n",
    "print(f\"{cents} Pennies\")"
   ]
  },
  {
   "cell_type": "markdown",
   "id": "5b01ee88",
   "metadata": {},
   "source": [
    "### Exercise 14: Height Units\n",
    "(Solved—16 Lines)\n",
    "Many people think about their height in feet and inches, even in some countries that primarily use the metric system. Write a program that reads a number of feet from the user, followed by a number of inches. Once these values are read, your program should compute and display the equivalent number of centimeters.\n",
    "Hint: One foot is 12 inches. One inch is 2.54 centimeters.\n",
    "\n"
   ]
  },
  {
   "cell_type": "code",
   "execution_count": null,
   "id": "f04e992a",
   "metadata": {},
   "outputs": [],
   "source": [
    "IN_PER_FT = 12\n",
    "CM_PER_IN = 2.54\n",
    "\n",
    "print(\"Enter your height: \")\n",
    "\n",
    "feets = int(input(\"Number of feets: \"))\n",
    "inches = int(input(\"Number of inches: \"))\n",
    "\n",
    "in_cm = feets * IN_PER_FT + inches * CM_PER_IN\n",
    "\n",
    "print(f\"Your height in centimeters is {in_cm} cm\")"
   ]
  },
  {
   "cell_type": "markdown",
   "id": "da8e7a80",
   "metadata": {},
   "source": [
    "### Exercise 15: Distance Units\n",
    "(20 Lines)\n",
    "In this exercise, you will create a program that begins by reading a measurement in feet from the user. Then your program should display the equivalent distance in inches, yards and miles. Use the Internet to look up the necessary conversion factors if you don’t have them memorized."
   ]
  },
  {
   "cell_type": "code",
   "execution_count": null,
   "id": "c2b78dd4",
   "metadata": {},
   "outputs": [],
   "source": [
    "feets = float(input(\"Enter your measurement in feets: \"))\n",
    "\n",
    "ft_to_inch = feets * 12\n",
    "ft_to_yards = feets * 0.333\n",
    "ft_to_miles = feets * 0.000189\n",
    "\n",
    "print(f\"\"\"Measurements in Inches is {ft_to_inch:.2f} IN\n",
    "Measurements in Yards is {ft_to_yards:.2f} Yards\n",
    "Measurements in Milea is {ft_to_miles} Miles\"\"\")"
   ]
  },
  {
   "cell_type": "markdown",
   "id": "63a3703c",
   "metadata": {},
   "source": [
    "### Exercise 16: Area and Volume\n",
    "(15 Lines)\n",
    "Write a program that begins by reading a radius, r, from the user. The program will continue by computing and displaying the area of a circle with radius r  and the volume of a sphere with radius r. Use the pi constant in the math module in your calculations.\n",
    "\n",
    "Hint: The area of a circle is computed using the formula  $$ar\\!ea = \\pi r^{2}$$ . The volume of a sphere is computed using the formula  $$volume = \\frac{4}{3}\\pi r^{3}$$ ."
   ]
  },
  {
   "cell_type": "code",
   "execution_count": null,
   "id": "59ee9762",
   "metadata": {},
   "outputs": [],
   "source": [
    "from math import pi as PI\n",
    "\n",
    "r = float(input(\"Enter the Radius of the Circle in cm: \"))\n",
    "\n",
    "area = PI * (r**2)\n",
    "volume = 4/3*(PI * (r**3))\n",
    "\n",
    "print(f\"Area of the Circle is {area:.2f} Sqcm and Volume is {volume:.2f} Cucm\")"
   ]
  },
  {
   "cell_type": "markdown",
   "id": "e90c680c",
   "metadata": {},
   "source": [
    "### Exercise 17: Heat Capacity\n",
    "(Solved—25 Lines)\n",
    "The amount of energy required to increase the temperature of one gram of a material by one degree Celsius is the material’s specific heat capacity,C . The total amount of energy required to raise m grams of a material by delta T degrees Celsius can be computed using the formula:\n",
    "\n",
    " $$q = mC\\varDelta T.$$ \n",
    "Write a program that reads the mass of some water and the temperature change from the user. Your program should display the total amount of energy that must be added or removed to achieve the desired temperature change.\n",
    "\n",
    "Hint: The specific heat capacity of water is  $$4.186 \\frac{J}{{g^{\\circ }\\mathrm{{C}}}}$$ . . Because water has a density of 1.0 gram per millilitre, you can use grams and millilitres interchangeably in this exercise.\n",
    "\n",
    "Extend your program so that it also computes the cost of heating the water. Electricity is normally billed using units of kilowatt hours rather than Joules. In this exercise, you should assume that electricity costs 8.9 cents per kilowatt-hour. Use your program to compute the cost of boiling water for a cup of coffee.\n",
    "\n",
    "Hint: You will need to look up the factor for converting between Joules and kilowatt hours to complete the last part of this exercise."
   ]
  },
  {
   "cell_type": "code",
   "execution_count": null,
   "id": "bb944809",
   "metadata": {},
   "outputs": [],
   "source": [
    "WATER_HEAT_CAPACITY = 4.186\n",
    "ELECTRICITY_PRICE = 8\n",
    "J_TO_KWH = 2.777e-7\n",
    "m = float(input(\"Enter the amount of water in milliliteres: \"))\n",
    "t = float(input(\"Enter the Temprature increase in degree celsius: \"))\n",
    "q = m * t * WATER_HEAT_CAPACITY\n",
    "print(f\"That will require {q:.2f} Joules of energy\")\n",
    "kwh = q * J_TO_KWH\n",
    "cost = ELECTRICITY_PRICE * kwh\n",
    "print(f\"That much energy will cost ₹{cost:.2f}\")"
   ]
  },
  {
   "cell_type": "markdown",
   "id": "0d25e108",
   "metadata": {},
   "source": [
    "### Exercise 18: Volume of a Cylinder\n",
    "(15 Lines)\n",
    "The volume of a cylinder can be computed by multiplying the area of its circular base by its height. Write a program that reads the radius of the cylinder, along with its height, from the user and computes its volume. Display the result rounded to one decimal place."
   ]
  },
  {
   "cell_type": "code",
   "execution_count": null,
   "id": "4bc2a46c",
   "metadata": {},
   "outputs": [],
   "source": [
    "from math import pi as PI\n",
    "r = float(input(\"Enter the Radius of the Circular Base: \"))\n",
    "h = float(input(\"Enter the Height of the Cylinder: \"))\n",
    "\n",
    "area = PI * r**2\n",
    "volume = area * h\n",
    "\n",
    "print(f\"The Volume of the cylinder is {volume:.1f} Cucm\")"
   ]
  },
  {
   "cell_type": "markdown",
   "id": "fd8da45e",
   "metadata": {},
   "source": [
    "### Exercise 19: Free Fall\n",
    "(Solved—16 Lines)\n",
    "Create a program that determines how quickly an object is traveling when it hits the ground. The user will enter the height from which the object is dropped in meters (m). Because the object is dropped its initial speed is 0 m/s. Assume that the acceleration due to gravity is 9.8  $$\\mathrm{m/s}^{2}$$ . You can use the formula  $${ v_{f}} = \\sqrt{v_{i}^{2} + 2ad}$$  to compute the final speed,  $${ v_{f}}$$ , when the initial speed,  $$v_{i}$$ , acceleration,  $$a$$ , and distance,  $$d$$ , are known.\n"
   ]
  },
  {
   "cell_type": "code",
   "execution_count": null,
   "id": "6d02d6e9",
   "metadata": {},
   "outputs": [],
   "source": [
    "from math import sqrt\n",
    "\n",
    "A = 9.8\n",
    "vi = 0\n",
    "\n",
    "d = float(input(\"Enter the distance of the object fron the ground: \"))\n",
    "vf = sqrt((vi**2) + (2*A*d))\n",
    "\n",
    "print(f\"It will hit the ground at {vf:.2f} m/s\")"
   ]
  },
  {
   "cell_type": "markdown",
   "id": "599d0a3c",
   "metadata": {},
   "source": [
    "### Exercise 20: Ideal Gas Law\n",
    "(19 Lines)\n",
    "The ideal gas law is a mathematical approximation of the behavior of gasses as pressure, volume and temperature change. It is usually stated as:\n",
    "$$PV = nPT$$\n",
    "where $$P$$ is the pressure in Pascals, $$V$$ is the volume in liters, $$r$$ is the amount of substance in moles, $$R$$ is the ideal gas constant, equal to 8.314 $$\\frac{\\mathrm {J}}{\\mathrm {mol\\ K}}$$ , and  $$T$$  is the temperature in degrees Kelvin.\n",
    "Write a program that computes the amount of gas in moles when the user supplies the pressure, volume and temperature. Test your program by determining the number of moles of gas in a SCUBA tank. A typical SCUBA tank holds 12 liters of gas at a pressure of 20,000,000 Pascals (approximately 3,000 PSI). Room temperature is approximately 20 degrees Celsius or 68 degrees Fahrenheit.\n",
    "\n",
    "Hint: A temperature is converted from Celsius to Kelvin by adding 273.15 to it. To convert a temperature from Fahrenheit to Kelvin, deduct 32 from it, multiply it by  $$\\frac{5}{9}$$  and then add 273.15 to it."
   ]
  },
  {
   "cell_type": "code",
   "execution_count": null,
   "id": "580edb22",
   "metadata": {},
   "outputs": [],
   "source": []
  },
  {
   "cell_type": "markdown",
   "id": "6e5a51f4",
   "metadata": {},
   "source": [
    "### Exercise 21: Area of a Triangle\n",
    "(13 Lines)\n",
    "The area of a triangle can be computed using the following formula, where  $$b$$  is the length of the base of the triangle, and  $$h$$  is its height:\n",
    " $$\\mathrm {area} = \\dfrac{b \\times h}{2}$$ \n",
    "Write a program that allows the user to enter values for  $$b$$  and  $$h$$ . The program should then compute and display the area of a triangle with base length  $$b$$  and height  $$h$$ ."
   ]
  },
  {
   "cell_type": "code",
   "execution_count": null,
   "id": "6e6c487a",
   "metadata": {},
   "outputs": [],
   "source": [
    "b = float(input(\"Enter the base of the traingle: \"))\n",
    "h = float(input(\"Enter the height of the traingle: \"))\n",
    "\n",
    "area = (b*h)/2\n",
    "\n",
    "print(f\"The base length is {b} and height is {h} and area of the traingle is {area:.2f}\")"
   ]
  },
  {
   "cell_type": "markdown",
   "id": "260547c8",
   "metadata": {},
   "source": [
    "### Exercise 22: Area of a Triangle (Again)\n",
    "(16 Lines)\n",
    "In the previous exercise you created a program that computed the area of a triangle when the length of its base and its height were known. It is also possible to compute the area of a triangle when the lengths of all three sides are known. Let  $$s_1$$ ,  $$s_2$$  and  $$s_3$$  be the lengths of the sides. Let  $$s = (s_1 + s_2 + s_3) / 2$$ . Then the area of the triangle can be calculated using the following formula:\n",
    " $$\\mathrm {area} = \\sqrt{s \\times (s-s_1) \\times (s - s_2) \\times (s - s_3)}$$ \n",
    "Develop a program that reads the lengths of the sides of a triangle from the user and displays its area."
   ]
  },
  {
   "cell_type": "code",
   "execution_count": null,
   "id": "62ab64ae",
   "metadata": {},
   "outputs": [],
   "source": [
    "from math import sqrt\n",
    "\n",
    "s1 = float(input(\"Enter the length of first side of the traingle: \"))\n",
    "s2 = float(input(\"Enter the length of second side of the traingle: \"))\n",
    "s3 = float(input(\"Enter the length of third side of the traingle: \"))\n",
    "\n",
    "s = (s1+s2+s3)/2\n",
    "area = sqrt(s * (s-s1) * (s-s2) * (s-s3) )\n",
    "\n",
    "print(f\"The area of the given traingle is {area:.2f} SqUnits\")"
   ]
  },
  {
   "cell_type": "markdown",
   "id": "719d6492",
   "metadata": {},
   "source": [
    "### Exercise 23: Area of a Regular Polygon\n",
    "(Solved—14 Lines)\n",
    "A polygon is regular if its sides are all the same length and the angles between all of the adjacent sides are equal. The area of a regular polygon can be computed using the following formula, where $$s$$ is the length of a side and  $$n$$ is the number of sides: $$\\mathrm {area} = \\dfrac{n \\times s^2}{4 \\times \\mathrm {tan}\\left( \\dfrac{\\pi }{n}\\right) }$$ \n",
    "\n",
    "Write a program that reads $$s$$ and $$n$$ from the user and then displays the area of a regular polygon constructed from these values."
   ]
  },
  {
   "cell_type": "code",
   "execution_count": null,
   "id": "ca19bdc6",
   "metadata": {},
   "outputs": [],
   "source": [
    "from math import pi as PI\n",
    "import numpy as np\n",
    "\n",
    "s = float(input(\"Enter the length of sides of the polygon: \"))\n",
    "n = float(input(\"Enter the number of sides of the polygon: \"))\n",
    "\n",
    "area = (n * (s**2))/(4 * (np.tan(PI/4)))\n",
    "\n",
    "print(f\"The area of the polygon is {area:.2f}\")"
   ]
  },
  {
   "cell_type": "markdown",
   "id": "88cd87d1",
   "metadata": {},
   "source": [
    "### Exercise 24: Units of Time\n",
    "(22 Lines)\n",
    "Create a program that reads a duration from the user as a number of days, hours, minutes, and seconds. Compute and display the total number of seconds represented by this duration."
   ]
  },
  {
   "cell_type": "code",
   "execution_count": null,
   "id": "c31b33e2",
   "metadata": {},
   "outputs": [],
   "source": [
    "days = int(input(\"Enter the number of Days: \"))\n",
    "hours = int(input(\"Enter the number of Hours: \"))\n",
    "minutes = int(input(\"Enter the number of Minutes: \"))\n",
    "seconds = int(input(\"Enter the number of Seconds: \"))\n",
    "\n",
    "total_sec = ((days*24*60*60) + (hours*60*60) + (minutes*60) + seconds)\n",
    "\n",
    "print(f\"The total number of seconds will be {total_sec} seconds\")      "
   ]
  },
  {
   "cell_type": "markdown",
   "id": "9aa7a14b",
   "metadata": {},
   "source": [
    "### Exercise 25: Units of Time (Again)\n",
    "(Solved—24 Lines)\n",
    "In this exercise you will reverse the process described in the previous exercise. Develop a program that begins by reading a number of seconds from the user. Then your program should display the equivalent amount of time in the form D:HH:MM:SS, where D, HH, MM, and SS represent days, hours, minutes and seconds respectively. The hours, minutes and seconds should all be formatted so that they occupy exactly two digits, with a leading 0 displayed if necessary."
   ]
  },
  {
   "cell_type": "code",
   "execution_count": null,
   "id": "b93d4011",
   "metadata": {},
   "outputs": [],
   "source": [
    "SECONDS_PER_DAY = 84600\n",
    "SECONDS_PER_HOUR = 3600\n",
    "SECONDS_PER_MINUTE = 60\n",
    "\n",
    "seconds = int(input(\"Enter the number of Seconds: \"))\n",
    "\n",
    "days = seconds // SECONDS_PER_DAY\n",
    "seconds = seconds % SECONDS_PER_DAY\n",
    "\n",
    "hours = seconds // SECONDS_PER_DAY\n",
    "seconds = seconds % SECONDS_PER_HOUR\n",
    "\n",
    "minutes = seconds // SECONDS_PER_DAY\n",
    "seconds = seconds % SECONDS_PER_MINUTE\n",
    "\n",
    "print(f\"The equivalent duration is {days:02d}:{hours:02d}:{minutes:02d}:{seconds:02d}\")\n"
   ]
  },
  {
   "cell_type": "markdown",
   "id": "22bf9bf7",
   "metadata": {},
   "source": [
    "### Exercise 26: Current Time\n",
    "(10 Lines)\n",
    "Python includes a library of functions for working with time, including a function called asctime in the time module. It reads the current time from the computer’s internal clock and returns it in a human-readable format. Write a program that displays the current time and date. Your program will not require any input from the user."
   ]
  },
  {
   "cell_type": "code",
   "execution_count": null,
   "id": "4dda04a3",
   "metadata": {},
   "outputs": [],
   "source": [
    "import datetime\n",
    "curr_time = datetime.datetime.now()\n",
    "print(f\"The current date and time is {curr_time}\")"
   ]
  },
  {
   "cell_type": "markdown",
   "id": "623c9b65",
   "metadata": {},
   "source": [
    "### Exercise 27: Body Mass Index\n",
    "(14 Lines)\n",
    "Write a program that computes the body mass index (BMI) of an individual. Your program should begin by reading a height and weight from the user. Then it should use one of the following two formulas to compute the BMI before displaying it. If you read the height in inches and the weight in pounds then body mass index is computed using the following formula:\n",
    " $$\\mathrm {BMI} = \\dfrac{\\mathrm {weight}}{\\mathrm {height} \\times \\mathrm {height}} \\times 703.$$ \n",
    "If you read the height in meters and the weight in kilograms then body mass index is computed using this slightly simpler formula:\n",
    " $$\\mathrm {BMI} = \\dfrac{\\mathrm {weight}}{\\mathrm {height} \\times \\mathrm {height}}.$$ "
   ]
  },
  {
   "cell_type": "code",
   "execution_count": null,
   "id": "420ade5c",
   "metadata": {},
   "outputs": [],
   "source": [
    "height = float(input(\"Enter the height in meters: \"))\n",
    "weight = float(input(\"Enter the weight in kilograms: \"))\n",
    "\n",
    "bmi = weight/(height*height)\n",
    "\n",
    "print(f\"The BMI of the Individual is {bmi:.2f}\")"
   ]
  },
  {
   "cell_type": "markdown",
   "id": "613d9d21",
   "metadata": {},
   "source": [
    "### Exercise 28: Wind Chill\n",
    "(Solved—22 Lines)\n",
    "When the wind blows in cold weather, the air feels even colder than it actually is because the movement of the air increases the rate of cooling for warm objects, like people. This effect is known as wind chill.\n",
    "In 2001, Canada, the United Kingdom and the United States adopted the following formula for computing the wind chill index. Within the formula  $$T_{a}$$  is the air temperature in degrees Celsius and  $$V$$  is the wind speed in kilometers per hour. A similar formula with different constant values can be used with temperatures in degrees Fahrenheit and wind speeds in miles per hour.\n",
    " $${ WCI} = 13.12 + 0.6215T_{a} - 11.37V^{0.16} + 0.3965T_{a}V^{0.16}$$ \n",
    " \n",
    " Write a program that begins by reading the air temperature and wind speed from the user. Once these values have been read your program should display the wind chill index rounded to the closest integer.\n",
    " \n",
    "The wind chill index is only considered valid for temperatures less than or equal to 10 degrees Celsius and wind speeds exceeding 4.8 kilometers per hour."
   ]
  },
  {
   "cell_type": "code",
   "execution_count": null,
   "id": "82fe497d",
   "metadata": {},
   "outputs": [],
   "source": []
  },
  {
   "cell_type": "markdown",
   "id": "010cc9bf",
   "metadata": {},
   "source": [
    "### Exercise 29: Celsius to Fahrenheit and Kelvin\n",
    "(17 Lines)\n",
    "Write a program that begins by reading a temperature from the user in degrees Celsius. Then your program should display the equivalent temperature in degrees Fahrenheit and degrees Kelvin. The calculations needed to convert between different units of temperature can be found on the internet."
   ]
  },
  {
   "cell_type": "code",
   "execution_count": null,
   "id": "9990f60f",
   "metadata": {},
   "outputs": [],
   "source": [
    "celcius = float(input(\"Enter the temperature in degree celcius: \"))\n",
    "\n",
    "kelvin = celcius + 273.15\n",
    "fahrenheit = (celcius * 1.8) + 32\n",
    "\n",
    "print(f\"The Temprature in Kelvin is {kelvin:.2f} K and in Fahrenheit is {fahrenheit:.2f} F \")"
   ]
  },
  {
   "cell_type": "markdown",
   "id": "fbe1be12",
   "metadata": {},
   "source": [
    "### Exercise 30: Units of Pressure\n",
    "(20 Lines)\n",
    "In this exercise you will create a program that reads a pressure from the user in kilopascals. Once the pressure has been read your program should report the equivalent pressure in pounds per square inch, millimeters of mercury and atmospheres. Use your research skills to determine the conversion factors between these units.\n"
   ]
  },
  {
   "cell_type": "code",
   "execution_count": null,
   "id": "34443f9e",
   "metadata": {},
   "outputs": [],
   "source": []
  },
  {
   "cell_type": "markdown",
   "id": "40dfc56d",
   "metadata": {},
   "source": [
    "### Exercise 31: Sum of the Digits in an Integer\n",
    "(18 Lines)\n",
    "Develop a program that reads a four-digit integer from the user and displays the sum of the digits in the number. For example, if the user enters 3141 then your program should display 3 + 1 + 4 + 1 = 9.\n"
   ]
  },
  {
   "cell_type": "code",
   "execution_count": null,
   "id": "3626f556",
   "metadata": {},
   "outputs": [],
   "source": [
    "number = int(input(\"Enter the 4 digit number: \"))\n",
    "\n",
    "first_digit = number // 1000\n",
    "number = number % 1000\n",
    "\n",
    "sec_digit = number // 100\n",
    "number = number % 100\n",
    "\n",
    "third_digit = number // 10\n",
    "number = number % 10\n",
    "\n",
    "fourth_digit = number\n",
    "total = first_digit + sec_digit + third_digit + fourth_digit\n",
    "\n",
    "print(f\"The sum of the digits: {first_digit} + {sec_digit} + {third_digit} + {fourth_digit} is {total}\")"
   ]
  },
  {
   "cell_type": "markdown",
   "id": "6da4d62c",
   "metadata": {},
   "source": [
    "### Exercise 32: Sort 3 Integers\n",
    "(Solved—19 Lines)\n",
    "Create a program that reads three integers from the user and displays them in sorted order (from smallest to largest). Use the min and max functions to find the smallest and largest values. The middle value can be found by computing the sum of all three values, and then subtracting the minimum value and the maximum value."
   ]
  },
  {
   "cell_type": "code",
   "execution_count": null,
   "id": "3dbe8e87",
   "metadata": {},
   "outputs": [],
   "source": [
    "n1 = int(input(\"Enter the 1st number: \"))\n",
    "n2 = int(input(\"Enter the 2and number: \"))\n",
    "n3 = int(input(\"Enter the 3rd number: \"))\n",
    "\n",
    "minimum = min(n1, n2, n3)\n",
    "maximum = max(n1, n2, n3)\n",
    "\n",
    "middle = (n1 + n2 + n3) - minimum - maximum\n",
    "\n",
    "print(f\"Integers in sorted order are: {minimum},{middle},{maximum}\")"
   ]
  },
  {
   "cell_type": "markdown",
   "id": "55c70551",
   "metadata": {},
   "source": [
    "### Exercise 33: Day Old Bread\n",
    "(Solved—19 Lines)\n",
    "A bakery sells loaves of bread for $3.49 each. Day old bread is discounted by 60 percent. Write a program that begins by reading the number of loaves of day old bread being purchased from the user. Then your program should display the regular price for the bread, the discount because it is a day old, and the total price. All of the values should be displayed using two decimal places, and the decimal points in all of the numbers should be aligned when reasonable values are entered by the user."
   ]
  },
  {
   "cell_type": "code",
   "execution_count": null,
   "id": "d7d94cf3",
   "metadata": {},
   "outputs": [],
   "source": [
    "BREAD_PRICE = 3.69\n",
    "DISCOUNT = 0.60\n",
    "\n",
    "num_of_loaves = int(input(\"Enter the number of old bread loaves want to purchase: \"))\n",
    "\n",
    "regular_price = num_of_loaves * BREAD_PRICE\n",
    "discount_price = regular_price * DISCOUNT\n",
    "total = regular_price - discount_price\n",
    "\n",
    "print(f\"The Regular Price will be: ₹{regular_price:.2f}\")\n",
    "print(f\"The Discount will be: ₹{discount_price:.2f}\")\n",
    "print(f\"The Total Price will be: ₹{total:.2f}\")"
   ]
  }
 ],
 "metadata": {
  "kernelspec": {
   "display_name": "Python 3 (ipykernel)",
   "language": "python",
   "name": "python3"
  },
  "language_info": {
   "codemirror_mode": {
    "name": "ipython",
    "version": 3
   },
   "file_extension": ".py",
   "mimetype": "text/x-python",
   "name": "python",
   "nbconvert_exporter": "python",
   "pygments_lexer": "ipython3",
   "version": "3.9.16"
  }
 },
 "nbformat": 4,
 "nbformat_minor": 5
}
