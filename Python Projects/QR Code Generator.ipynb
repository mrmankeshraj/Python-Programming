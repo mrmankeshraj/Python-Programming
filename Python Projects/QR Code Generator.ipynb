{
 "cells": [
  {
   "cell_type": "markdown",
   "id": "7f8e563e",
   "metadata": {},
   "source": [
    "## QR code Generator"
   ]
  },
  {
   "cell_type": "code",
   "execution_count": 12,
   "id": "6e90d360",
   "metadata": {},
   "outputs": [],
   "source": [
    "import qrcode as qr\n",
    "\n",
    "img = qr.make(\"https://github.com/mrmankeshraj\")\n",
    "img.save(\"Mankesh_git.png\")"
   ]
  },
  {
   "cell_type": "code",
   "execution_count": 13,
   "id": "83683425",
   "metadata": {},
   "outputs": [],
   "source": [
    "import qrcode \n",
    "from PIL import Image\n",
    "\n",
    "qr = qrcode.QRCode(version=1,    # Customising QR code according to the need.\n",
    "                  error_correction=qrcode.constants.ERROR_CORRECT_H,\n",
    "                  box_size=10, border=4)\n",
    "qr.add_data(\"https://github.com/mrmankeshraj\")    # Adding the required web address to generate qr code.\n",
    "qr.make(fit=True)\n",
    "img=qr.make_image(fill_color=\"green\", back_color=\"white\")    # QR image according to the need.\n",
    "img.save(\"Mankesh_Git123.png\")    # Save image at same position as this file is saved.\n"
   ]
  },
  {
   "cell_type": "code",
   "execution_count": null,
   "id": "9c4fa5f5",
   "metadata": {},
   "outputs": [],
   "source": []
  }
 ],
 "metadata": {
  "kernelspec": {
   "display_name": "Python 3 (ipykernel)",
   "language": "python",
   "name": "python3"
  },
  "language_info": {
   "codemirror_mode": {
    "name": "ipython",
    "version": 3
   },
   "file_extension": ".py",
   "mimetype": "text/x-python",
   "name": "python",
   "nbconvert_exporter": "python",
   "pygments_lexer": "ipython3",
   "version": "3.9.13"
  }
 },
 "nbformat": 4,
 "nbformat_minor": 5
}
