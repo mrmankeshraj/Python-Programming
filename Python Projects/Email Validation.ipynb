{
 "cells": [
  {
   "cell_type": "markdown",
   "id": "b6ade5f3",
   "metadata": {},
   "source": [
    "# Email Validation\n",
    "\n",
    "## Conditions that should be fullfilled by the following Programm.\n",
    "##### 1.> Lenth should be greater than or equal to 6 characters.\n",
    "##### 2.> Any character of the Email Id should not be in upper case.\n",
    "##### 3.> \"@\" should only appear once in the Email Id.\n",
    "##### 4.> \".\" should be at the 4th last or 3ard last position in the Email Id.\n",
    "##### 4.> There should not be any space in the Email Id."
   ]
  },
  {
   "cell_type": "code",
   "execution_count": 1,
   "id": "092b0b4e",
   "metadata": {},
   "outputs": [
    {
     "name": "stdout",
     "output_type": "stream",
     "text": [
      "Enter your Email Id :Asdfaerg@gmail.com\n",
      "Wrong Email Address 5\n"
     ]
    }
   ],
   "source": [
    "email = input(\"Enter your Email Id :\")\n",
    "\n",
    "k = 0\n",
    "j = 0\n",
    "d = 0\n",
    "if len(email) >= 6:    # email must contail at least six characters\n",
    "    if email[0].isalpha():    # first character must be alphabet\n",
    "        if (\"@\" in email) and (email.count(\"@\") == 1):    # \"@\" should appear at most once\n",
    "            if (email[-4] == \".\") ^ (email[-3] == \".\"):    # \".\" should appear at 4th last or 3ard last position\n",
    "                for i in email:\n",
    "                    if i == i.isspace():    # email should not contain any spaces\n",
    "                        k = 1\n",
    "                    elif i.isalpha():    \n",
    "                        if i == i.upper():    # no character should be in upper case\n",
    "                            j = 1\n",
    "                    elif i.isdigit():    # digits are allowed in email eccept first char\n",
    "                        continue\n",
    "                    elif (i == \"_\") or (i == \".\") or (i == \"@\"):    # \"_\", \".\", \"@\" are allowed in email id\n",
    "                        continue\n",
    "                    else:\n",
    "                        d = 1\n",
    "                if k == 1 or d == 1 or j == 1:\n",
    "                    print(\"Wrong Email Address 5\")\n",
    "                else:\n",
    "                    print(\"Correct Email Address\")\n",
    "            else:\n",
    "                print(\"Wrong Email Address 4\")\n",
    "        else:\n",
    "            print(\"Wrong Email Address 3\")\n",
    "    else:\n",
    "        print(\"Wrong Email Address 2\")\n",
    "else:\n",
    "    print(\"Wrong Email Address 1\")\n",
    "    "
   ]
  },
  {
   "cell_type": "code",
   "execution_count": null,
   "id": "b845bfb9",
   "metadata": {},
   "outputs": [],
   "source": []
  }
 ],
 "metadata": {
  "kernelspec": {
   "display_name": "Python 3 (ipykernel)",
   "language": "python",
   "name": "python3"
  },
  "language_info": {
   "codemirror_mode": {
    "name": "ipython",
    "version": 3
   },
   "file_extension": ".py",
   "mimetype": "text/x-python",
   "name": "python",
   "nbconvert_exporter": "python",
   "pygments_lexer": "ipython3",
   "version": "3.9.13"
  }
 },
 "nbformat": 4,
 "nbformat_minor": 5
}
